{
 "cells": [
  {
   "cell_type": "markdown",
   "metadata": {},
   "source": [
    "# 一、导包取数"
   ]
  },
  {
   "cell_type": "code",
   "execution_count": 79,
   "metadata": {},
   "outputs": [],
   "source": [
    "import pandas as pd\n",
    "import numpy as np\n",
    "import matplotlib.pyplot as plt\n",
    "%matplotlib inline\n",
    "\n",
    "from mlxtend.preprocessing import TransactionEncoder\n",
    "from mlxtend.frequent_patterns import apriori\n",
    "from mlxtend.frequent_patterns import association_rules\n",
    "\n",
    "from sklearn.metrics.pairwise import pairwise_distances\n",
    "from sklearn.model_selection import train_test_split\n",
    "\n",
    "from sklearn.metrics import mean_squared_error\n",
    "from math import sqrt\n",
    "\n",
    "import warnings\n",
    "warnings.filterwarnings('ignore')"
   ]
  },
  {
   "cell_type": "code",
   "execution_count": 5,
   "metadata": {},
   "outputs": [],
   "source": [
    "pd.set_option('display.max_columns', None)"
   ]
  },
  {
   "cell_type": "code",
   "execution_count": 6,
   "metadata": {},
   "outputs": [
    {
     "name": "stdout",
     "output_type": "stream",
     "text": [
      "(45466, 24)\n",
      "(100004, 4)\n"
     ]
    }
   ],
   "source": [
    "movie_metadata = pd.read_csv('data/movies_metadata.csv')\n",
    "print(movie_metadata.shape)\n",
    "ratings_small = pd.read_csv('data/ratings_small.csv')\n",
    "print(ratings_small.shape)"
   ]
  },
  {
   "cell_type": "code",
   "execution_count": 7,
   "metadata": {},
   "outputs": [
    {
     "data": {
      "text/plain": [
       "Index(['adult', 'belongs_to_collection', 'budget', 'genres', 'homepage', 'id',\n",
       "       'imdb_id', 'original_language', 'original_title', 'overview',\n",
       "       'popularity', 'poster_path', 'production_companies',\n",
       "       'production_countries', 'release_date', 'revenue', 'runtime',\n",
       "       'spoken_languages', 'status', 'tagline', 'title', 'video',\n",
       "       'vote_average', 'vote_count'],\n",
       "      dtype='object')"
      ]
     },
     "execution_count": 7,
     "metadata": {},
     "output_type": "execute_result"
    }
   ],
   "source": [
    "movie_metadata.columns"
   ]
  },
  {
   "cell_type": "code",
   "execution_count": 8,
   "metadata": {},
   "outputs": [
    {
     "data": {
      "text/plain": [
       "Index(['userId', 'movieId', 'rating', 'timestamp'], dtype='object')"
      ]
     },
     "execution_count": 8,
     "metadata": {},
     "output_type": "execute_result"
    }
   ],
   "source": [
    "ratings_small.columns"
   ]
  },
  {
   "cell_type": "markdown",
   "metadata": {},
   "source": [
    "# 二、数据分析处理"
   ]
  },
  {
   "cell_type": "markdown",
   "metadata": {},
   "source": [
    "### 2.1、获取指定数据列，并合并电影数据和评论数据"
   ]
  },
  {
   "cell_type": "code",
   "execution_count": 9,
   "metadata": {},
   "outputs": [],
   "source": [
    "movie_df = movie_metadata[['id','title']]\n",
    "rated_df = ratings_small[['userId', 'movieId', 'rating']]"
   ]
  },
  {
   "cell_type": "code",
   "execution_count": 10,
   "metadata": {},
   "outputs": [],
   "source": [
    "# 转为数值\n",
    "movie_df['id'] = pd.to_numeric(movie_df['id'], errors='coerce')\n",
    "rated_df['movieId'] = pd.to_numeric(rated_df['movieId'], errors='coerce')"
   ]
  },
  {
   "cell_type": "code",
   "execution_count": 11,
   "metadata": {},
   "outputs": [
    {
     "name": "stdout",
     "output_type": "stream",
     "text": [
      "(45463, 2)\n",
      "(45433, 2)\n"
     ]
    }
   ],
   "source": [
    "# 删除有空值的行\n",
    "movie_df.dropna(axis=0,subset=['id'], inplace=True)\n",
    "print(movie_df.shape)\n",
    "movie_df.drop_duplicates(subset=['id'], inplace=True)\n",
    "print(movie_df.shape)"
   ]
  },
  {
   "cell_type": "code",
   "execution_count": 12,
   "metadata": {},
   "outputs": [
    {
     "name": "stdout",
     "output_type": "stream",
     "text": [
      "(87592, 3)\n",
      "(44989, 3)\n"
     ]
    }
   ],
   "source": [
    "# 使用join合并，合并后的数据条数为两个df的和，需要去除userId为空的数据。\n",
    "join_data = movie_df.set_index('id').join(rated_df.set_index('movieId'))\n",
    "print(join_data.shape)\n",
    "join_data.dropna(axis=0,subset=['userId'], inplace=True)\n",
    "print(join_data.shape)"
   ]
  },
  {
   "cell_type": "code",
   "execution_count": 13,
   "metadata": {},
   "outputs": [
    {
     "name": "stdout",
     "output_type": "stream",
     "text": [
      "(44989, 3)\n"
     ]
    }
   ],
   "source": [
    "# 使用merge合并，合并后的数据无需剔除\n",
    "merge_df = movie_df.merge(rated_df, left_on='id', right_on='movieId')\n",
    "print(join_data.shape)"
   ]
  },
  {
   "cell_type": "code",
   "execution_count": 14,
   "metadata": {},
   "outputs": [],
   "source": [
    "# 统计每个电影的评论的个数\n",
    "rating_count = join_data.groupby('title')['rating'].count()\n",
    "all_data = join_data.join(rating_count, on='title', rsuffix='_count').reset_index()"
   ]
  },
  {
   "cell_type": "markdown",
   "metadata": {},
   "source": [
    "## 2.2、筛选数据"
   ]
  },
  {
   "cell_type": "code",
   "execution_count": 15,
   "metadata": {},
   "outputs": [
    {
     "data": {
      "text/plain": [
       "0.60      7.00\n",
       "0.61      7.00\n",
       "0.62      7.00\n",
       "0.63      8.00\n",
       "0.64      8.00\n",
       "0.65      9.00\n",
       "0.66      9.00\n",
       "0.67     10.00\n",
       "0.68     10.00\n",
       "0.69     11.00\n",
       "0.70     12.00\n",
       "0.71     12.00\n",
       "0.72     13.00\n",
       "0.73     14.00\n",
       "0.74     14.00\n",
       "0.75     15.75\n",
       "0.76     17.00\n",
       "0.77     18.00\n",
       "0.78     19.00\n",
       "0.79     20.00\n",
       "0.80     21.00\n",
       "0.81     22.33\n",
       "0.82     24.00\n",
       "0.83     26.00\n",
       "0.84     27.00\n",
       "0.85     29.00\n",
       "0.86     31.00\n",
       "0.87     34.00\n",
       "0.88     37.00\n",
       "0.89     41.77\n",
       "0.90     45.00\n",
       "0.91     49.00\n",
       "0.92     52.56\n",
       "0.93     59.00\n",
       "0.94     64.42\n",
       "0.95     71.00\n",
       "0.96     83.28\n",
       "0.97     98.21\n",
       "0.98    119.14\n",
       "0.99    168.49\n",
       "Name: rating, dtype: float64"
      ]
     },
     "execution_count": 15,
     "metadata": {},
     "output_type": "execute_result"
    }
   ],
   "source": [
    "# 查看评论数量的分位数：有21%的电影评论数大于20 \n",
    "rating_count.quantile(np.arange(0.6,1,0.01))"
   ]
  },
  {
   "cell_type": "code",
   "execution_count": 16,
   "metadata": {},
   "outputs": [
    {
     "data": {
      "text/plain": [
       "(34552, 5)"
      ]
     },
     "execution_count": 16,
     "metadata": {},
     "output_type": "execute_result"
    }
   ],
   "source": [
    "# 选择评论数量大于等于20的电影\n",
    "movie_top = all_data.query('rating_count > 20')\n",
    "movie_top.shape"
   ]
  },
  {
   "cell_type": "code",
   "execution_count": 17,
   "metadata": {},
   "outputs": [
    {
     "data": {
      "text/plain": [
       "0"
      ]
     },
     "execution_count": 17,
     "metadata": {},
     "output_type": "execute_result"
    }
   ],
   "source": [
    "# movie_top.isnull().sum()\n",
    "movie_top = movie_top.drop_duplicates(['userId', 'title'])\n",
    "movie_top.duplicated(['userId', 'title']).sum()"
   ]
  },
  {
   "cell_type": "code",
   "execution_count": 18,
   "metadata": {},
   "outputs": [
    {
     "data": {
      "text/plain": [
       "(671, 580)"
      ]
     },
     "execution_count": 18,
     "metadata": {},
     "output_type": "execute_result"
    }
   ],
   "source": [
    "# 重塑数据，并将有效评论置为1，无效评论置为0\n",
    "df_apriori = movie_top.pivot(index='userId', columns='title', values='rating').fillna(0)\n",
    "df_apriori = df_apriori.applymap(lambda x: x if x<=0 else 1)\n",
    "df_apriori.shape"
   ]
  },
  {
   "cell_type": "markdown",
   "metadata": {},
   "source": [
    "# 三、关联规则推荐"
   ]
  },
  {
   "cell_type": "code",
   "execution_count": 19,
   "metadata": {},
   "outputs": [
    {
     "data": {
      "text/html": [
       "<div>\n",
       "<style scoped>\n",
       "    .dataframe tbody tr th:only-of-type {\n",
       "        vertical-align: middle;\n",
       "    }\n",
       "\n",
       "    .dataframe tbody tr th {\n",
       "        vertical-align: top;\n",
       "    }\n",
       "\n",
       "    .dataframe thead th {\n",
       "        text-align: right;\n",
       "    }\n",
       "</style>\n",
       "<table border=\"1\" class=\"dataframe\">\n",
       "  <thead>\n",
       "    <tr style=\"text-align: right;\">\n",
       "      <th></th>\n",
       "      <th>antecedents</th>\n",
       "      <th>consequents</th>\n",
       "      <th>antecedent support</th>\n",
       "      <th>consequent support</th>\n",
       "      <th>support</th>\n",
       "      <th>confidence</th>\n",
       "      <th>lift</th>\n",
       "      <th>leverage</th>\n",
       "      <th>conviction</th>\n",
       "      <th>antecedent_len</th>\n",
       "      <th>consequent_len</th>\n",
       "    </tr>\n",
       "  </thead>\n",
       "  <tbody>\n",
       "    <tr>\n",
       "      <th>0</th>\n",
       "      <td>(5 Card Stud)</td>\n",
       "      <td>(48 Hrs.)</td>\n",
       "      <td>0.298063</td>\n",
       "      <td>0.298063</td>\n",
       "      <td>0.108793</td>\n",
       "      <td>0.365000</td>\n",
       "      <td>1.224575</td>\n",
       "      <td>0.019952</td>\n",
       "      <td>1.105413</td>\n",
       "      <td>1</td>\n",
       "      <td>1</td>\n",
       "    </tr>\n",
       "    <tr>\n",
       "      <th>1</th>\n",
       "      <td>(48 Hrs.)</td>\n",
       "      <td>(5 Card Stud)</td>\n",
       "      <td>0.298063</td>\n",
       "      <td>0.298063</td>\n",
       "      <td>0.108793</td>\n",
       "      <td>0.365000</td>\n",
       "      <td>1.224575</td>\n",
       "      <td>0.019952</td>\n",
       "      <td>1.105413</td>\n",
       "      <td>1</td>\n",
       "      <td>1</td>\n",
       "    </tr>\n",
       "    <tr>\n",
       "      <th>2</th>\n",
       "      <td>(A Clockwork Orange)</td>\n",
       "      <td>(48 Hrs.)</td>\n",
       "      <td>0.152012</td>\n",
       "      <td>0.298063</td>\n",
       "      <td>0.102832</td>\n",
       "      <td>0.676471</td>\n",
       "      <td>2.269559</td>\n",
       "      <td>0.057523</td>\n",
       "      <td>2.169625</td>\n",
       "      <td>1</td>\n",
       "      <td>1</td>\n",
       "    </tr>\n",
       "    <tr>\n",
       "      <th>3</th>\n",
       "      <td>(48 Hrs.)</td>\n",
       "      <td>(A Clockwork Orange)</td>\n",
       "      <td>0.298063</td>\n",
       "      <td>0.152012</td>\n",
       "      <td>0.102832</td>\n",
       "      <td>0.345000</td>\n",
       "      <td>2.269559</td>\n",
       "      <td>0.057523</td>\n",
       "      <td>1.294638</td>\n",
       "      <td>1</td>\n",
       "      <td>1</td>\n",
       "    </tr>\n",
       "    <tr>\n",
       "      <th>4</th>\n",
       "      <td>(A Nightmare on Elm Street)</td>\n",
       "      <td>(48 Hrs.)</td>\n",
       "      <td>0.268256</td>\n",
       "      <td>0.298063</td>\n",
       "      <td>0.156483</td>\n",
       "      <td>0.583333</td>\n",
       "      <td>1.957083</td>\n",
       "      <td>0.076526</td>\n",
       "      <td>1.684650</td>\n",
       "      <td>1</td>\n",
       "      <td>1</td>\n",
       "    </tr>\n",
       "  </tbody>\n",
       "</table>\n",
       "</div>"
      ],
      "text/plain": [
       "                   antecedents           consequents  antecedent support  \\\n",
       "0                (5 Card Stud)             (48 Hrs.)            0.298063   \n",
       "1                    (48 Hrs.)         (5 Card Stud)            0.298063   \n",
       "2         (A Clockwork Orange)             (48 Hrs.)            0.152012   \n",
       "3                    (48 Hrs.)  (A Clockwork Orange)            0.298063   \n",
       "4  (A Nightmare on Elm Street)             (48 Hrs.)            0.268256   \n",
       "\n",
       "   consequent support   support  confidence      lift  leverage  conviction  \\\n",
       "0            0.298063  0.108793    0.365000  1.224575  0.019952    1.105413   \n",
       "1            0.298063  0.108793    0.365000  1.224575  0.019952    1.105413   \n",
       "2            0.298063  0.102832    0.676471  2.269559  0.057523    2.169625   \n",
       "3            0.152012  0.102832    0.345000  2.269559  0.057523    1.294638   \n",
       "4            0.298063  0.156483    0.583333  1.957083  0.076526    1.684650   \n",
       "\n",
       "   antecedent_len  consequent_len  \n",
       "0               1               1  \n",
       "1               1               1  \n",
       "2               1               1  \n",
       "3               1               1  \n",
       "4               1               1  "
      ]
     },
     "execution_count": 19,
     "metadata": {},
     "output_type": "execute_result"
    }
   ],
   "source": [
    "# 挖掘频繁项集\n",
    "frequent_itemsets = apriori(df_apriori, min_support=0.1, use_colnames=True)\n",
    "# frequent_itemsets.sort_values('support', ascending=False)\n",
    "# 关联规则过滤\n",
    "results = association_rules(frequent_itemsets, metric='lift', min_threshold=1)\n",
    "# results.sort_values('lift', ascending=False)\n",
    "\n",
    "results['antecedent_len'] = results['antecedents'].apply(lambda x: len(x))\n",
    "results['consequent_len'] = results['consequents'].apply(lambda x: len(x))\n",
    "results.head()"
   ]
  },
  {
   "cell_type": "code",
   "execution_count": 20,
   "metadata": {},
   "outputs": [
    {
     "data": {
      "text/html": [
       "<div>\n",
       "<style scoped>\n",
       "    .dataframe tbody tr th:only-of-type {\n",
       "        vertical-align: middle;\n",
       "    }\n",
       "\n",
       "    .dataframe tbody tr th {\n",
       "        vertical-align: top;\n",
       "    }\n",
       "\n",
       "    .dataframe thead th {\n",
       "        text-align: right;\n",
       "    }\n",
       "</style>\n",
       "<table border=\"1\" class=\"dataframe\">\n",
       "  <thead>\n",
       "    <tr style=\"text-align: right;\">\n",
       "      <th></th>\n",
       "      <th>antecedents</th>\n",
       "      <th>consequents</th>\n",
       "      <th>antecedent support</th>\n",
       "      <th>consequent support</th>\n",
       "      <th>support</th>\n",
       "      <th>confidence</th>\n",
       "      <th>lift</th>\n",
       "      <th>leverage</th>\n",
       "      <th>conviction</th>\n",
       "      <th>antecedent_len</th>\n",
       "      <th>consequent_len</th>\n",
       "      <th>is_Batman_Returns</th>\n",
       "    </tr>\n",
       "  </thead>\n",
       "  <tbody>\n",
       "    <tr>\n",
       "      <th>63984</th>\n",
       "      <td>(Batman Returns)</td>\n",
       "      <td>(Silent Hill, The Hours, Reservoir Dogs, Monso...</td>\n",
       "      <td>0.298063</td>\n",
       "      <td>0.107303</td>\n",
       "      <td>0.102832</td>\n",
       "      <td>0.345</td>\n",
       "      <td>3.215208</td>\n",
       "      <td>0.070849</td>\n",
       "      <td>1.362897</td>\n",
       "      <td>1</td>\n",
       "      <td>4</td>\n",
       "      <td>1</td>\n",
       "    </tr>\n",
       "    <tr>\n",
       "      <th>36085</th>\n",
       "      <td>(Batman Returns)</td>\n",
       "      <td>(Silent Hill, Wag the Dog, Reservoir Dogs)</td>\n",
       "      <td>0.298063</td>\n",
       "      <td>0.105812</td>\n",
       "      <td>0.101341</td>\n",
       "      <td>0.340</td>\n",
       "      <td>3.213239</td>\n",
       "      <td>0.069803</td>\n",
       "      <td>1.354830</td>\n",
       "      <td>1</td>\n",
       "      <td>3</td>\n",
       "      <td>1</td>\n",
       "    </tr>\n",
       "    <tr>\n",
       "      <th>63893</th>\n",
       "      <td>(Batman Returns)</td>\n",
       "      <td>(Silent Hill, Sissi, Reservoir Dogs, Monsoon W...</td>\n",
       "      <td>0.298063</td>\n",
       "      <td>0.107303</td>\n",
       "      <td>0.101341</td>\n",
       "      <td>0.340</td>\n",
       "      <td>3.168611</td>\n",
       "      <td>0.069358</td>\n",
       "      <td>1.352572</td>\n",
       "      <td>1</td>\n",
       "      <td>4</td>\n",
       "      <td>1</td>\n",
       "    </tr>\n",
       "    <tr>\n",
       "      <th>63353</th>\n",
       "      <td>(Batman Returns)</td>\n",
       "      <td>(Silent Hill, Rain Man, Reservoir Dogs, Monsoo...</td>\n",
       "      <td>0.298063</td>\n",
       "      <td>0.107303</td>\n",
       "      <td>0.101341</td>\n",
       "      <td>0.340</td>\n",
       "      <td>3.168611</td>\n",
       "      <td>0.069358</td>\n",
       "      <td>1.352572</td>\n",
       "      <td>1</td>\n",
       "      <td>4</td>\n",
       "      <td>1</td>\n",
       "    </tr>\n",
       "    <tr>\n",
       "      <th>36016</th>\n",
       "      <td>(Batman Returns)</td>\n",
       "      <td>(Silent Hill, The Hours, Reservoir Dogs)</td>\n",
       "      <td>0.298063</td>\n",
       "      <td>0.116244</td>\n",
       "      <td>0.108793</td>\n",
       "      <td>0.365</td>\n",
       "      <td>3.139936</td>\n",
       "      <td>0.074145</td>\n",
       "      <td>1.391741</td>\n",
       "      <td>1</td>\n",
       "      <td>3</td>\n",
       "      <td>1</td>\n",
       "    </tr>\n",
       "  </tbody>\n",
       "</table>\n",
       "</div>"
      ],
      "text/plain": [
       "            antecedents                                        consequents  \\\n",
       "63984  (Batman Returns)  (Silent Hill, The Hours, Reservoir Dogs, Monso...   \n",
       "36085  (Batman Returns)         (Silent Hill, Wag the Dog, Reservoir Dogs)   \n",
       "63893  (Batman Returns)  (Silent Hill, Sissi, Reservoir Dogs, Monsoon W...   \n",
       "63353  (Batman Returns)  (Silent Hill, Rain Man, Reservoir Dogs, Monsoo...   \n",
       "36016  (Batman Returns)           (Silent Hill, The Hours, Reservoir Dogs)   \n",
       "\n",
       "       antecedent support  consequent support   support  confidence      lift  \\\n",
       "63984            0.298063            0.107303  0.102832       0.345  3.215208   \n",
       "36085            0.298063            0.105812  0.101341       0.340  3.213239   \n",
       "63893            0.298063            0.107303  0.101341       0.340  3.168611   \n",
       "63353            0.298063            0.107303  0.101341       0.340  3.168611   \n",
       "36016            0.298063            0.116244  0.108793       0.365  3.139936   \n",
       "\n",
       "       leverage  conviction  antecedent_len  consequent_len  is_Batman_Returns  \n",
       "63984  0.070849    1.362897               1               4                  1  \n",
       "36085  0.069803    1.354830               1               3                  1  \n",
       "63893  0.069358    1.352572               1               4                  1  \n",
       "63353  0.069358    1.352572               1               4                  1  \n",
       "36016  0.074145    1.391741               1               3                  1  "
      ]
     },
     "execution_count": 20,
     "metadata": {},
     "output_type": "execute_result"
    }
   ],
   "source": [
    "# 根据用户的观看记录'Batman Returns'推荐多部电影\n",
    "results_len1 = results.query('antecedent_len == 1')\n",
    "results_len1['is_Batman_Returns'] = results_len1['antecedents'].map(lambda x: 1 if list(x)[0]=='Batman Returns' else 0)\n",
    "df_recomendation_list = results_len1.query('is_Batman_Returns == 1').sort_values('lift', ascending=False)\n",
    "df_recomendation_list.head()"
   ]
  },
  {
   "cell_type": "code",
   "execution_count": 21,
   "metadata": {},
   "outputs": [
    {
     "data": {
      "text/html": [
       "<div>\n",
       "<style scoped>\n",
       "    .dataframe tbody tr th:only-of-type {\n",
       "        vertical-align: middle;\n",
       "    }\n",
       "\n",
       "    .dataframe tbody tr th {\n",
       "        vertical-align: top;\n",
       "    }\n",
       "\n",
       "    .dataframe thead th {\n",
       "        text-align: right;\n",
       "    }\n",
       "</style>\n",
       "<table border=\"1\" class=\"dataframe\">\n",
       "  <thead>\n",
       "    <tr style=\"text-align: right;\">\n",
       "      <th></th>\n",
       "      <th>antecedents</th>\n",
       "      <th>consequents</th>\n",
       "      <th>antecedent support</th>\n",
       "      <th>consequent support</th>\n",
       "      <th>support</th>\n",
       "      <th>confidence</th>\n",
       "      <th>lift</th>\n",
       "      <th>leverage</th>\n",
       "      <th>conviction</th>\n",
       "      <th>antecedent_len</th>\n",
       "      <th>consequent_len</th>\n",
       "      <th>is_Batman_Returns</th>\n",
       "    </tr>\n",
       "  </thead>\n",
       "  <tbody>\n",
       "    <tr>\n",
       "      <th>628</th>\n",
       "      <td>(Batman Returns)</td>\n",
       "      <td>(Reservoir Dogs)</td>\n",
       "      <td>0.298063</td>\n",
       "      <td>0.228018</td>\n",
       "      <td>0.177347</td>\n",
       "      <td>0.595</td>\n",
       "      <td>2.609444</td>\n",
       "      <td>0.109384</td>\n",
       "      <td>1.906129</td>\n",
       "      <td>1</td>\n",
       "      <td>1</td>\n",
       "      <td>1</td>\n",
       "    </tr>\n",
       "    <tr>\n",
       "      <th>407</th>\n",
       "      <td>(Batman Returns)</td>\n",
       "      <td>(Ariel)</td>\n",
       "      <td>0.298063</td>\n",
       "      <td>0.159463</td>\n",
       "      <td>0.120715</td>\n",
       "      <td>0.405</td>\n",
       "      <td>2.539766</td>\n",
       "      <td>0.073185</td>\n",
       "      <td>1.412666</td>\n",
       "      <td>1</td>\n",
       "      <td>1</td>\n",
       "      <td>1</td>\n",
       "    </tr>\n",
       "    <tr>\n",
       "      <th>668</th>\n",
       "      <td>(Batman Returns)</td>\n",
       "      <td>(Wag the Dog)</td>\n",
       "      <td>0.298063</td>\n",
       "      <td>0.192250</td>\n",
       "      <td>0.143070</td>\n",
       "      <td>0.480</td>\n",
       "      <td>2.496744</td>\n",
       "      <td>0.085767</td>\n",
       "      <td>1.553365</td>\n",
       "      <td>1</td>\n",
       "      <td>1</td>\n",
       "      <td>1</td>\n",
       "    </tr>\n",
       "    <tr>\n",
       "      <th>664</th>\n",
       "      <td>(Batman Returns)</td>\n",
       "      <td>(To Kill a Mockingbird)</td>\n",
       "      <td>0.298063</td>\n",
       "      <td>0.262295</td>\n",
       "      <td>0.193741</td>\n",
       "      <td>0.650</td>\n",
       "      <td>2.478125</td>\n",
       "      <td>0.115560</td>\n",
       "      <td>2.107728</td>\n",
       "      <td>1</td>\n",
       "      <td>1</td>\n",
       "      <td>1</td>\n",
       "    </tr>\n",
       "    <tr>\n",
       "      <th>631</th>\n",
       "      <td>(Batman Returns)</td>\n",
       "      <td>(Romeo + Juliet)</td>\n",
       "      <td>0.298063</td>\n",
       "      <td>0.163934</td>\n",
       "      <td>0.120715</td>\n",
       "      <td>0.405</td>\n",
       "      <td>2.470500</td>\n",
       "      <td>0.071853</td>\n",
       "      <td>1.405152</td>\n",
       "      <td>1</td>\n",
       "      <td>1</td>\n",
       "      <td>1</td>\n",
       "    </tr>\n",
       "  </tbody>\n",
       "</table>\n",
       "</div>"
      ],
      "text/plain": [
       "          antecedents              consequents  antecedent support  \\\n",
       "628  (Batman Returns)         (Reservoir Dogs)            0.298063   \n",
       "407  (Batman Returns)                  (Ariel)            0.298063   \n",
       "668  (Batman Returns)            (Wag the Dog)            0.298063   \n",
       "664  (Batman Returns)  (To Kill a Mockingbird)            0.298063   \n",
       "631  (Batman Returns)         (Romeo + Juliet)            0.298063   \n",
       "\n",
       "     consequent support   support  confidence      lift  leverage  conviction  \\\n",
       "628            0.228018  0.177347       0.595  2.609444  0.109384    1.906129   \n",
       "407            0.159463  0.120715       0.405  2.539766  0.073185    1.412666   \n",
       "668            0.192250  0.143070       0.480  2.496744  0.085767    1.553365   \n",
       "664            0.262295  0.193741       0.650  2.478125  0.115560    2.107728   \n",
       "631            0.163934  0.120715       0.405  2.470500  0.071853    1.405152   \n",
       "\n",
       "     antecedent_len  consequent_len  is_Batman_Returns  \n",
       "628               1               1                  1  \n",
       "407               1               1                  1  \n",
       "668               1               1                  1  \n",
       "664               1               1                  1  \n",
       "631               1               1                  1  "
      ]
     },
     "execution_count": 21,
     "metadata": {},
     "output_type": "execute_result"
    }
   ],
   "source": [
    "# 根据用户的观看记录'Batman Returns'推荐单部电影\n",
    "df_recomendation_one = results_len1.query('is_Batman_Returns==1 and consequent_len==1').sort_values('lift', ascending=False)\n",
    "df_recomendation_one.head()"
   ]
  },
  {
   "cell_type": "code",
   "execution_count": null,
   "metadata": {},
   "outputs": [],
   "source": []
  },
  {
   "cell_type": "markdown",
   "metadata": {},
   "source": [
    "# 四、协同过滤推荐（基于用户）"
   ]
  },
  {
   "cell_type": "markdown",
   "metadata": {},
   "source": [
    "## 4.1、数据准备"
   ]
  },
  {
   "cell_type": "code",
   "execution_count": 22,
   "metadata": {},
   "outputs": [
    {
     "name": "stdout",
     "output_type": "stream",
     "text": [
      "(100004, 4)\n"
     ]
    },
    {
     "data": {
      "text/html": [
       "<div>\n",
       "<style scoped>\n",
       "    .dataframe tbody tr th:only-of-type {\n",
       "        vertical-align: middle;\n",
       "    }\n",
       "\n",
       "    .dataframe tbody tr th {\n",
       "        vertical-align: top;\n",
       "    }\n",
       "\n",
       "    .dataframe thead th {\n",
       "        text-align: right;\n",
       "    }\n",
       "</style>\n",
       "<table border=\"1\" class=\"dataframe\">\n",
       "  <thead>\n",
       "    <tr style=\"text-align: right;\">\n",
       "      <th></th>\n",
       "      <th>userId</th>\n",
       "      <th>movieId</th>\n",
       "      <th>rating</th>\n",
       "      <th>timestamp</th>\n",
       "    </tr>\n",
       "  </thead>\n",
       "  <tbody>\n",
       "    <tr>\n",
       "      <th>0</th>\n",
       "      <td>1</td>\n",
       "      <td>31</td>\n",
       "      <td>2.5</td>\n",
       "      <td>1260759144</td>\n",
       "    </tr>\n",
       "    <tr>\n",
       "      <th>1</th>\n",
       "      <td>1</td>\n",
       "      <td>1029</td>\n",
       "      <td>3.0</td>\n",
       "      <td>1260759179</td>\n",
       "    </tr>\n",
       "    <tr>\n",
       "      <th>2</th>\n",
       "      <td>1</td>\n",
       "      <td>1061</td>\n",
       "      <td>3.0</td>\n",
       "      <td>1260759182</td>\n",
       "    </tr>\n",
       "    <tr>\n",
       "      <th>3</th>\n",
       "      <td>1</td>\n",
       "      <td>1129</td>\n",
       "      <td>2.0</td>\n",
       "      <td>1260759185</td>\n",
       "    </tr>\n",
       "    <tr>\n",
       "      <th>4</th>\n",
       "      <td>1</td>\n",
       "      <td>1172</td>\n",
       "      <td>4.0</td>\n",
       "      <td>1260759205</td>\n",
       "    </tr>\n",
       "  </tbody>\n",
       "</table>\n",
       "</div>"
      ],
      "text/plain": [
       "   userId  movieId  rating   timestamp\n",
       "0       1       31     2.5  1260759144\n",
       "1       1     1029     3.0  1260759179\n",
       "2       1     1061     3.0  1260759182\n",
       "3       1     1129     2.0  1260759185\n",
       "4       1     1172     4.0  1260759205"
      ]
     },
     "execution_count": 22,
     "metadata": {},
     "output_type": "execute_result"
    }
   ],
   "source": [
    "data_small = pd.read_csv('data/ratings_small.csv')\n",
    "print(data_small.shape)\n",
    "data_small.head()"
   ]
  },
  {
   "cell_type": "code",
   "execution_count": 23,
   "metadata": {},
   "outputs": [
    {
     "data": {
      "text/html": [
       "<div>\n",
       "<style scoped>\n",
       "    .dataframe tbody tr th:only-of-type {\n",
       "        vertical-align: middle;\n",
       "    }\n",
       "\n",
       "    .dataframe tbody tr th {\n",
       "        vertical-align: top;\n",
       "    }\n",
       "\n",
       "    .dataframe thead th {\n",
       "        text-align: right;\n",
       "    }\n",
       "</style>\n",
       "<table border=\"1\" class=\"dataframe\">\n",
       "  <thead>\n",
       "    <tr style=\"text-align: right;\">\n",
       "      <th></th>\n",
       "      <th>userId</th>\n",
       "      <th>rating</th>\n",
       "      <th>timestamp</th>\n",
       "      <th>movidid</th>\n",
       "    </tr>\n",
       "  </thead>\n",
       "  <tbody>\n",
       "    <tr>\n",
       "      <th>0</th>\n",
       "      <td>1</td>\n",
       "      <td>2.5</td>\n",
       "      <td>1260759144</td>\n",
       "      <td>0</td>\n",
       "    </tr>\n",
       "    <tr>\n",
       "      <th>1</th>\n",
       "      <td>1</td>\n",
       "      <td>3.0</td>\n",
       "      <td>1260759179</td>\n",
       "      <td>1</td>\n",
       "    </tr>\n",
       "    <tr>\n",
       "      <th>2</th>\n",
       "      <td>1</td>\n",
       "      <td>3.0</td>\n",
       "      <td>1260759182</td>\n",
       "      <td>2</td>\n",
       "    </tr>\n",
       "    <tr>\n",
       "      <th>3</th>\n",
       "      <td>1</td>\n",
       "      <td>2.0</td>\n",
       "      <td>1260759185</td>\n",
       "      <td>3</td>\n",
       "    </tr>\n",
       "    <tr>\n",
       "      <th>4</th>\n",
       "      <td>1</td>\n",
       "      <td>4.0</td>\n",
       "      <td>1260759205</td>\n",
       "      <td>4</td>\n",
       "    </tr>\n",
       "  </tbody>\n",
       "</table>\n",
       "</div>"
      ],
      "text/plain": [
       "   userId  rating   timestamp  movidid\n",
       "0       1     2.5  1260759144        0\n",
       "1       1     3.0  1260759179        1\n",
       "2       1     3.0  1260759182        2\n",
       "3       1     2.0  1260759185        3\n",
       "4       1     4.0  1260759205        4"
      ]
     },
     "execution_count": 23,
     "metadata": {},
     "output_type": "execute_result"
    }
   ],
   "source": [
    "# 为movie重新分配id\n",
    "movie_id = pd.DataFrame(data_small['movieId'].unique())\n",
    "movie_id['movidid'] = range(len(movie_id))\n",
    "movie_id.set_index(0, inplace=True)\n",
    "\n",
    "data_small = data_small.join(movie_id, on='movieId', how='left')\n",
    "data_small.drop(['movieId'], axis=1, inplace=True)\n",
    "data_small.head()"
   ]
  },
  {
   "cell_type": "code",
   "execution_count": 24,
   "metadata": {},
   "outputs": [
    {
     "name": "stdout",
     "output_type": "stream",
     "text": [
      "671 9066\n"
     ]
    }
   ],
   "source": [
    "# 获取用户和movie信息\n",
    "users = data_small['userId'].nunique()\n",
    "movies = data_small['movidid'].nunique()\n",
    "print(users, movies)"
   ]
  },
  {
   "cell_type": "code",
   "execution_count": 67,
   "metadata": {},
   "outputs": [
    {
     "name": "stdout",
     "output_type": "stream",
     "text": [
      "671\n"
     ]
    },
    {
     "data": {
      "text/plain": [
       "671"
      ]
     },
     "execution_count": 67,
     "metadata": {},
     "output_type": "execute_result"
    }
   ],
   "source": [
    "# 构建用户和movie矩阵——训练数据\n",
    "user_item_matrix = np.zeros((users, movies))\n",
    "print(len(user_item_matrix))"
   ]
  },
  {
   "cell_type": "code",
   "execution_count": 26,
   "metadata": {},
   "outputs": [
    {
     "name": "stdout",
     "output_type": "stream",
     "text": [
      "(70002, 4) (30002, 4)\n"
     ]
    }
   ],
   "source": [
    "# 拆分数据集\n",
    "train_data, test_data = train_test_split(data_small, test_size=0.3)\n",
    "print(train_data.shape, test_data.shape)"
   ]
  },
  {
   "cell_type": "code",
   "execution_count": 68,
   "metadata": {},
   "outputs": [
    {
     "name": "stdout",
     "output_type": "stream",
     "text": [
      "(671, 9066)\n"
     ]
    },
    {
     "data": {
      "text/plain": [
       "(671, 9066)"
      ]
     },
     "execution_count": 68,
     "metadata": {},
     "output_type": "execute_result"
    }
   ],
   "source": [
    "# 将用户评分填写到矩阵中——训练数据\n",
    "for line in train_data.itertuples():\n",
    "    user_item_matrix[line[1]-1, line[4]] = line[2]   # 因为userId是从1开始的，所以要减1\n",
    "print(user_item_matrix.shape)"
   ]
  },
  {
   "cell_type": "markdown",
   "metadata": {},
   "source": [
    "## 4.2、训练"
   ]
  },
  {
   "cell_type": "code",
   "execution_count": 28,
   "metadata": {},
   "outputs": [
    {
     "data": {
      "text/plain": [
       "(671, 671)"
      ]
     },
     "execution_count": 28,
     "metadata": {},
     "output_type": "execute_result"
    }
   ],
   "source": [
    "# 计算用户相似度\n",
    "# 当前矩阵的行向量表示的是用户，每一行表示为每个用户的向量\n",
    "# 在使用pairwise_distances计算距离时，是计算每个用户向量之间的距离\n",
    "# 可以用类似的方法来计算每个电影向量之间的距离（需要在构建矩阵时注意行和列的设置）\n",
    "user_similarity = pairwise_distances(user_item_matrix, metric='cosine')\n",
    "user_similarity.shape"
   ]
  },
  {
   "cell_type": "code",
   "execution_count": 29,
   "metadata": {},
   "outputs": [
    {
     "data": {
      "text/plain": [
       "array([0.347, 0.898, 0.947, 0.985, 1.   ])"
      ]
     },
     "execution_count": 29,
     "metadata": {},
     "output_type": "execute_result"
    }
   ],
   "source": [
    "# 查看数据分位数\n",
    "user_similarity_k = np.triu(user_similarity,k=1)\n",
    "user_similarity_k_non = np.round(user_similarity_k[user_similarity_k.nonzero()],3)\n",
    "np.percentile(user_similarity_k_non, [0, 25, 50, 75, 100])"
   ]
  },
  {
   "cell_type": "code",
   "execution_count": 64,
   "metadata": {},
   "outputs": [],
   "source": [
    "# 预测用户评分\n",
    "mean_movie_rating = np.mean(user_item_matrix, axis=1)\n",
    "rating_diff = user_item_matrix - mean_movie_rating[:, np.newaxis]\n",
    "\n",
    "# 预测公式\n",
    "user_precdiction = mean_movie_rating[:,np.newaxis] + user_similarity.dot(rating_diff) / np.array([np.abs(user_similarity).sum(axis=1)]).T"
   ]
  },
  {
   "cell_type": "code",
   "execution_count": 66,
   "metadata": {},
   "outputs": [
    {
     "data": {
      "text/plain": [
       "3.3871491574989117"
      ]
     },
     "execution_count": 66,
     "metadata": {},
     "output_type": "execute_result"
    }
   ],
   "source": [
    "# 进行结果评估\n",
    "user_precdiction_notnon = user_precdiction[user_item_matrix.nonzero()]\n",
    "user_actial_notnon = user_item_matrix[user_item_matrix.nonzero()]\n",
    "\n",
    "\n",
    "# 计算均方误差\n",
    "erro_train = sqrt(mean_squared_error(user_actial_notnon, user_precdiction_notnon))\n",
    "erro_train\n"
   ]
  },
  {
   "cell_type": "markdown",
   "metadata": {},
   "source": [
    "## 4.3、预测"
   ]
  },
  {
   "cell_type": "code",
   "execution_count": 76,
   "metadata": {},
   "outputs": [
    {
     "data": {
      "text/plain": [
       "(671, 9066)"
      ]
     },
     "execution_count": 76,
     "metadata": {},
     "output_type": "execute_result"
    }
   ],
   "source": [
    "\n",
    "# 构建用户和movie矩阵——测试数据\n",
    "user_item_matrix_test = np.zeros((users, movies))\n",
    "len(user_item_matrix_test)\n",
    "# 将用户评分填写到矩阵中——测试数据\n",
    "for line in test_data.itertuples():\n",
    "    user_item_matrix_test[line[1]-1, line[4]] = line[2]   # 因为userId是从1开始的，所以要减1\n",
    "user_item_matrix_test.shape"
   ]
  },
  {
   "cell_type": "code",
   "execution_count": 77,
   "metadata": {},
   "outputs": [],
   "source": [
    "rating_diff_test = user_item_matrix_test - mean_movie_rating[:, np.newaxis]\n",
    "# 预测公式\n",
    "user_precdiction_test = mean_movie_rating[:,np.newaxis] + user_similarity.dot(rating_diff_test) / np.array([np.abs(user_similarity).sum(axis=1)]).T"
   ]
  },
  {
   "cell_type": "code",
   "execution_count": 78,
   "metadata": {},
   "outputs": [
    {
     "name": "stdout",
     "output_type": "stream",
     "text": [
      "(30002,)\n",
      "(30002,)\n"
     ]
    },
    {
     "data": {
      "text/plain": [
       "3.5180228632464368"
      ]
     },
     "execution_count": 78,
     "metadata": {},
     "output_type": "execute_result"
    }
   ],
   "source": [
    "# 进行结果评估\n",
    "user_precdiction_notnon_test = user_precdiction_test[user_item_matrix_test.nonzero()]\n",
    "print(user_precdiction_notnon_test.shape)\n",
    "user_actial_notnon_test = user_item_matrix_test[user_item_matrix_test.nonzero()]\n",
    "print(user_actial_notnon_test.shape)\n",
    "\n",
    "# 计算均方误差\n",
    "erro_train_test = sqrt(mean_squared_error(user_precdiction_notnon_test, user_actial_notnon_test))\n",
    "erro_train_test"
   ]
  },
  {
   "cell_type": "markdown",
   "metadata": {},
   "source": [
    "## 4.4、协同过滤代码整合"
   ]
  },
  {
   "cell_type": "code",
   "execution_count": null,
   "metadata": {},
   "outputs": [],
   "source": [
    "data_small = pd.read_csv('data/ratings_small.csv')\n",
    "\n",
    "# 为movie重新分配id\n",
    "movie_id = pd.DataFrame(data_small['movieId'].unique())\n",
    "movie_id['movidid'] = range(len(movie_id))\n",
    "movie_id.set_index(0, inplace=True)\n",
    "data_small = data_small.join(movie_id, on='movieId', how='left')\n",
    "data_small.drop(['movieId'], axis=1, inplace=True)\n",
    "\n",
    "# 获取用户和movie信息\n",
    "users = data_small['userId'].nunique()\n",
    "movies = data_small['movidid'].nunique()\n",
    "\n",
    "# 拆分数据集\n",
    "train_data, test_data = train_test_split(data_small, test_size=0.3)\n",
    "\n",
    "\n",
    "def get_matrix(data):\n",
    "    matrix = np.zeros((users, movies))\n",
    "    for line in data.itertuples():\n",
    "        matrix[line[1]-1, line[4]] = line[2]   # 因为userId是从1开始的，所以要减1\n",
    "    return matrix\n",
    "\n",
    "\n",
    "mean_movie_rating = np.mean(user_item_matrix, axis=1)\n",
    "# 计算用户相似度\n",
    "user_similarity = pairwise_distances(user_item_matrix, metric='cosine')\n",
    "def train_model(metrix):\n",
    "    # 预测用户评分\n",
    "    rating_diff = metrix - mean_movie_rating[:, np.newaxis]\n",
    "    # 预测公式\n",
    "    user_precdiction = mean_movie_rating[:,np.newaxis] + user_similarity.dot(rating_diff) / np.array([np.abs(user_similarity).sum(axis=1)]).T\n",
    "\n",
    "    return user_precdiction\n",
    "\n",
    "\n",
    "def assess(user_precdiction):\n",
    "    user_precdiction_notnon = user_precdiction[user_item_matrix.nonzero()]\n",
    "    user_actial_notnon = user_item_matrix[user_item_matrix.nonzero()]\n",
    "    # 计算均方误差\n",
    "    erro_train = sqrt(mean_squared_error(user_actial_notnon, user_precdiction_notnon))\n",
    "    \n",
    "    return erro_train\n",
    "\n",
    "# 训练\n",
    "user_item_matrix = get_matrix(train_data)   # 构建矩阵\n",
    "user_precdiction = train_model(user_item_matrix)   # 计算预测结果\n",
    "erro_train = assess(user_precdiction)   # 评估\n",
    "\n",
    "# 预测\n",
    "user_item_matrix_test = get_matrix(test_data)   # 构建矩阵\n",
    "user_precdiction_test = train_model(user_item_matrix_test)   # 计算预测结果\n",
    "erro_train_test = assess(user_precdiction_test)   # 评估"
   ]
  }
 ],
 "metadata": {
  "kernelspec": {
   "display_name": "Python 3.8.13 ('common')",
   "language": "python",
   "name": "python3"
  },
  "language_info": {
   "codemirror_mode": {
    "name": "ipython",
    "version": 3
   },
   "file_extension": ".py",
   "mimetype": "text/x-python",
   "name": "python",
   "nbconvert_exporter": "python",
   "pygments_lexer": "ipython3",
   "version": "3.8.13"
  },
  "orig_nbformat": 4,
  "vscode": {
   "interpreter": {
    "hash": "122d47065954b9d404385ff7085f36cbfd1fb7d0983d8b403db2e24134a761bc"
   }
  }
 },
 "nbformat": 4,
 "nbformat_minor": 2
}
