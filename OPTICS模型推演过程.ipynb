{
 "cells": [
  {
   "cell_type": "code",
   "execution_count": 45,
   "metadata": {},
   "outputs": [
    {
     "name": "stdout",
     "output_type": "stream",
     "text": [
      "原数据D： [[1, 2], [2, 5], [8, 7], [3, 6], [8, 8], [7, 3], [4, 5]]\n",
      "第1轮R： [[1, 2]]\n",
      "第1轮O： [[[2, 5], 3.1622776601683795], [[4, 5], 4.242640687119285], [[3, 6], 4.47213595499958], [[7, 3], 6.082762530298219], [[8, 7], 8.602325267042627], [[8, 8], 9.219544457292887]]\n",
      "第1轮S： [3.16]\n",
      "第2轮D： [[8, 7], [3, 6], [8, 8], [7, 3], [4, 5]]\n",
      "第2轮R： [[1, 2], [2, 5]]\n",
      "第2轮O： [[[3, 6], 1.4142135623730951], [[4, 5], 2.0], [[7, 3], 5.385164807134504], [[8, 7], 6.324555320336759], [[8, 8], 6.708203932499369]]\n",
      "第2轮S： [3.16, 1.41]\n",
      "第3轮D： [[8, 7], [8, 8], [7, 3], [4, 5]]\n",
      "第3轮R： [[1, 2], [2, 5], [3, 6]]\n",
      "第3轮O： [[[4, 5], 1.4142135623730951], [[7, 3], 5.0], [[8, 7], 5.0990195135927845], [[8, 8], 5.385164807134504]]\n",
      "第3轮S： [3.16, 1.41, 1.41]\n",
      "第4轮D： [[8, 7], [8, 8], [7, 3]]\n",
      "第4轮R： [[1, 2], [2, 5], [3, 6], [4, 5]]\n",
      "第4轮O： [[[7, 3], 3.605551275463989], [[8, 7], 4.47213595499958], [[8, 8], 5.0]]\n",
      "第4轮S： [3.16, 1.41, 1.41, 3.61]\n",
      "第5轮D： [[8, 7], [8, 8]]\n",
      "第5轮R： [[1, 2], [2, 5], [3, 6], [4, 5], [7, 3]]\n",
      "第5轮O： [[[8, 7], 4.123105625617661], [[8, 8], 5.0990195135927845]]\n",
      "第5轮S： [3.16, 1.41, 1.41, 3.61, 4.12]\n",
      "第6轮D： [[8, 8]]\n",
      "第6轮R： [[1, 2], [2, 5], [3, 6], [4, 5], [7, 3], [8, 7]]\n",
      "第6轮O： [[[8, 8], 1.0]]\n",
      "第6轮S： [3.16, 1.41, 1.41, 3.61, 4.12, 1.0]\n",
      "第7轮D： []\n",
      "第7轮R： [[1, 2], [2, 5], [3, 6], [4, 5], [7, 3], [8, 7], [8, 8]]\n"
     ]
    },
    {
     "data": {
      "image/png": "[encoded data removed]",
      "text/plain": [
       "<Figure size 432x288 with 1 Axes>"
      ]
     },
     "metadata": {
      "needs_background": "light"
     },
     "output_type": "display_data"
    }
   ],
   "source": [
    "from cmath import inf\n",
    "from math import sqrt\n",
    "import random\n",
    "import matplotlib.pyplot as plt\n",
    "\n",
    "\n",
    "eps = inf   # 默认核心距离无穷大，则每个点都是核心点\n",
    "min_sample = 2   # 默认最小邻域样本数为2，核心距离就是离自己最近样本点到自己的距离（样本点自身也是邻域元素之一）\n",
    "D = [[1, 2], [2, 5],  [8, 7], [3, 6],  [8, 8], [7, 3], [4,5]]\n",
    "print(\"原数据D：\", D)\n",
    "O = [] # 排序队列\n",
    "R = [] # 结果队列\n",
    "S = [] # 可达距离\n",
    "\n",
    "R.append(D.pop(random.randint(0,6)))\n",
    "print(\"第1轮R：\", R)\n",
    "nums = 1\n",
    "while True:\n",
    "    if len(D)<=0:\n",
    "        break\n",
    "    else:\n",
    "        O = [] # 排序队列\n",
    "        for x in D:   # 计算R中的点与D中其他点的距离，并按距离升序\n",
    "            x_d = sqrt((R[-1][0] - x[0])**2 + (R[-1][1] - x[1])**2)\n",
    "            O.append([x, x_d])\n",
    "            O = sorted(O, key=lambda x: x[1], reverse=False)\n",
    "        print(f\"第{nums}轮O：\", O)\n",
    "        S.append(round(O[0][1],2))\n",
    "        print(f\"第{nums}轮S：\", S)\n",
    "        D.remove(O[0][0])   # 将距离最小的点从D中删除\n",
    "        print(f\"第{nums+1}轮D：\", D)\n",
    "        R.append(O[0][0])   # 将距离最小的点加到R中\n",
    "        print(f\"第{nums+1}轮R：\", R)\n",
    "        nums+=1\n",
    "\n",
    "# 根据波峰来判断esp，波谷的数量可以近似看成聚类后的类别数量\n",
    "plt.plot(range(len(S)), S, 'ro-')\n",
    "plt.show()"
   ]
  },
  {
   "cell_type": "code",
   "execution_count": null,
   "metadata": {},
   "outputs": [],
   "source": []
  },
  {
   "cell_type": "code",
   "execution_count": null,
   "metadata": {},
   "outputs": [],
   "source": []
  }
 ],
 "metadata": {
  "kernelspec": {
   "display_name": "Python 3.8.13 ('common')",
   "language": "python",
   "name": "python3"
  },
  "language_info": {
   "codemirror_mode": {
    "name": "ipython",
    "version": 3
   },
   "file_extension": ".py",
   "mimetype": "text/x-python",
   "name": "python",
   "nbconvert_exporter": "python",
   "pygments_lexer": "ipython3",
   "version": "3.8.13"
  },
  "orig_nbformat": 4,
  "vscode": {
   "interpreter": {
    "hash": "122d47065954b9d404385ff7085f36cbfd1fb7d0983d8b403db2e24134a761bc"
   }
  }
 },
 "nbformat": 4,
 "nbformat_minor": 2
}
