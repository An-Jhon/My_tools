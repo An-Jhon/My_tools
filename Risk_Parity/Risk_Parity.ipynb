{
 "cells": [
  {
   "cell_type": "code",
   "execution_count": 1,
   "metadata": {},
   "outputs": [],
   "source": [
    "import pandas as pd\n",
    "import numpy as np\n",
    "import datetime\n",
    "import time\n",
    "import warnings\n",
    "warnings.filterwarnings('ignore')"
   ]
  },
  {
   "cell_type": "code",
   "execution_count": 2,
   "metadata": {},
   "outputs": [],
   "source": [
    "%matplotlib inline"
   ]
  },
  {
   "cell_type": "markdown",
   "metadata": {},
   "source": [
    "## 1 探索"
   ]
  },
  {
   "cell_type": "code",
   "execution_count": 3,
   "metadata": {},
   "outputs": [],
   "source": [
    "df = pd.read_csv('data.csv')"
   ]
  },
  {
   "cell_type": "code",
   "execution_count": 4,
   "metadata": {},
   "outputs": [
    {
     "data": {
      "text/html": [
       "<div>\n",
       "<style scoped>\n",
       "    .dataframe tbody tr th:only-of-type {\n",
       "        vertical-align: middle;\n",
       "    }\n",
       "\n",
       "    .dataframe tbody tr th {\n",
       "        vertical-align: top;\n",
       "    }\n",
       "\n",
       "    .dataframe thead th {\n",
       "        text-align: right;\n",
       "    }\n",
       "</style>\n",
       "<table border=\"1\" class=\"dataframe\">\n",
       "  <thead>\n",
       "    <tr style=\"text-align: right;\">\n",
       "      <th></th>\n",
       "      <th>TradeDate</th>\n",
       "      <th>000300.SH</th>\n",
       "      <th>399905.SZ</th>\n",
       "      <th>HSCEI.HI</th>\n",
       "      <th>NDX.GI</th>\n",
       "      <th>SPX.GI</th>\n",
       "      <th>GDAXI.GI</th>\n",
       "      <th>AU9999.SGE</th>\n",
       "      <th>TERGLU.FI</th>\n",
       "      <th>SPGOGUP.SPI</th>\n",
       "      <th>930849.CSI</th>\n",
       "      <th>H11008.CSI</th>\n",
       "    </tr>\n",
       "  </thead>\n",
       "  <tbody>\n",
       "    <tr>\n",
       "      <th>0</th>\n",
       "      <td>2008/1/2</td>\n",
       "      <td>5385.103</td>\n",
       "      <td>5123.934</td>\n",
       "      <td>16006.81</td>\n",
       "      <td>2093.21</td>\n",
       "      <td>1447.16</td>\n",
       "      <td>7949.11</td>\n",
       "      <td>196.46</td>\n",
       "      <td>1099.199951</td>\n",
       "      <td>3185.50</td>\n",
       "      <td>100.261</td>\n",
       "      <td>112.65</td>\n",
       "    </tr>\n",
       "    <tr>\n",
       "      <th>1</th>\n",
       "      <td>2008/1/3</td>\n",
       "      <td>5422.034</td>\n",
       "      <td>5230.749</td>\n",
       "      <td>15464.66</td>\n",
       "      <td>2051.76</td>\n",
       "      <td>1447.16</td>\n",
       "      <td>7908.41</td>\n",
       "      <td>200.80</td>\n",
       "      <td>1074.010010</td>\n",
       "      <td>3215.46</td>\n",
       "      <td>100.954</td>\n",
       "      <td>112.85</td>\n",
       "    </tr>\n",
       "    <tr>\n",
       "      <th>2</th>\n",
       "      <td>2008/1/4</td>\n",
       "      <td>5483.650</td>\n",
       "      <td>5243.032</td>\n",
       "      <td>15903.40</td>\n",
       "      <td>1963.52</td>\n",
       "      <td>1411.63</td>\n",
       "      <td>7808.69</td>\n",
       "      <td>202.50</td>\n",
       "      <td>1044.819946</td>\n",
       "      <td>3155.92</td>\n",
       "      <td>100.603</td>\n",
       "      <td>113.11</td>\n",
       "    </tr>\n",
       "    <tr>\n",
       "      <th>3</th>\n",
       "      <td>2008/1/7</td>\n",
       "      <td>5556.593</td>\n",
       "      <td>5347.790</td>\n",
       "      <td>15590.74</td>\n",
       "      <td>1957.44</td>\n",
       "      <td>1416.18</td>\n",
       "      <td>7817.17</td>\n",
       "      <td>200.26</td>\n",
       "      <td>1035.969971</td>\n",
       "      <td>3140.74</td>\n",
       "      <td>100.661</td>\n",
       "      <td>112.94</td>\n",
       "    </tr>\n",
       "    <tr>\n",
       "      <th>4</th>\n",
       "      <td>2008/1/8</td>\n",
       "      <td>5528.054</td>\n",
       "      <td>5200.552</td>\n",
       "      <td>15659.71</td>\n",
       "      <td>1910.33</td>\n",
       "      <td>1390.19</td>\n",
       "      <td>7849.99</td>\n",
       "      <td>203.90</td>\n",
       "      <td>1014.929993</td>\n",
       "      <td>3124.21</td>\n",
       "      <td>100.696</td>\n",
       "      <td>112.67</td>\n",
       "    </tr>\n",
       "  </tbody>\n",
       "</table>\n",
       "</div>"
      ],
      "text/plain": [
       "  TradeDate  000300.SH  399905.SZ  HSCEI.HI   NDX.GI   SPX.GI  GDAXI.GI  \\\n",
       "0  2008/1/2   5385.103   5123.934  16006.81  2093.21  1447.16   7949.11   \n",
       "1  2008/1/3   5422.034   5230.749  15464.66  2051.76  1447.16   7908.41   \n",
       "2  2008/1/4   5483.650   5243.032  15903.40  1963.52  1411.63   7808.69   \n",
       "3  2008/1/7   5556.593   5347.790  15590.74  1957.44  1416.18   7817.17   \n",
       "4  2008/1/8   5528.054   5200.552  15659.71  1910.33  1390.19   7849.99   \n",
       "\n",
       "   AU9999.SGE    TERGLU.FI  SPGOGUP.SPI  930849.CSI  H11008.CSI  \n",
       "0      196.46  1099.199951      3185.50     100.261      112.65  \n",
       "1      200.80  1074.010010      3215.46     100.954      112.85  \n",
       "2      202.50  1044.819946      3155.92     100.603      113.11  \n",
       "3      200.26  1035.969971      3140.74     100.661      112.94  \n",
       "4      203.90  1014.929993      3124.21     100.696      112.67  "
      ]
     },
     "execution_count": 4,
     "metadata": {},
     "output_type": "execute_result"
    }
   ],
   "source": [
    "df.head()"
   ]
  },
  {
   "cell_type": "code",
   "execution_count": 5,
   "metadata": {},
   "outputs": [
    {
     "data": {
      "text/html": [
       "<div>\n",
       "<style scoped>\n",
       "    .dataframe tbody tr th:only-of-type {\n",
       "        vertical-align: middle;\n",
       "    }\n",
       "\n",
       "    .dataframe tbody tr th {\n",
       "        vertical-align: top;\n",
       "    }\n",
       "\n",
       "    .dataframe thead th {\n",
       "        text-align: right;\n",
       "    }\n",
       "</style>\n",
       "<table border=\"1\" class=\"dataframe\">\n",
       "  <thead>\n",
       "    <tr style=\"text-align: right;\">\n",
       "      <th></th>\n",
       "      <th>000300.SH</th>\n",
       "      <th>399905.SZ</th>\n",
       "      <th>HSCEI.HI</th>\n",
       "      <th>NDX.GI</th>\n",
       "      <th>SPX.GI</th>\n",
       "      <th>GDAXI.GI</th>\n",
       "      <th>AU9999.SGE</th>\n",
       "      <th>TERGLU.FI</th>\n",
       "      <th>SPGOGUP.SPI</th>\n",
       "      <th>930849.CSI</th>\n",
       "      <th>H11008.CSI</th>\n",
       "    </tr>\n",
       "    <tr>\n",
       "      <th>TradeDate</th>\n",
       "      <th></th>\n",
       "      <th></th>\n",
       "      <th></th>\n",
       "      <th></th>\n",
       "      <th></th>\n",
       "      <th></th>\n",
       "      <th></th>\n",
       "      <th></th>\n",
       "      <th></th>\n",
       "      <th></th>\n",
       "      <th></th>\n",
       "    </tr>\n",
       "  </thead>\n",
       "  <tbody>\n",
       "    <tr>\n",
       "      <th>2008-01-02</th>\n",
       "      <td>5385.1030</td>\n",
       "      <td>5123.9340</td>\n",
       "      <td>16006.81</td>\n",
       "      <td>2093.210</td>\n",
       "      <td>1447.16</td>\n",
       "      <td>7949.11</td>\n",
       "      <td>196.46</td>\n",
       "      <td>1099.199951</td>\n",
       "      <td>3185.50</td>\n",
       "      <td>100.2610</td>\n",
       "      <td>112.6500</td>\n",
       "    </tr>\n",
       "    <tr>\n",
       "      <th>2008-01-03</th>\n",
       "      <td>5422.0340</td>\n",
       "      <td>5230.7490</td>\n",
       "      <td>15464.66</td>\n",
       "      <td>2051.760</td>\n",
       "      <td>1447.16</td>\n",
       "      <td>7908.41</td>\n",
       "      <td>200.80</td>\n",
       "      <td>1074.010010</td>\n",
       "      <td>3215.46</td>\n",
       "      <td>100.9540</td>\n",
       "      <td>112.8500</td>\n",
       "    </tr>\n",
       "    <tr>\n",
       "      <th>2008-01-04</th>\n",
       "      <td>5483.6500</td>\n",
       "      <td>5243.0320</td>\n",
       "      <td>15903.40</td>\n",
       "      <td>1963.520</td>\n",
       "      <td>1411.63</td>\n",
       "      <td>7808.69</td>\n",
       "      <td>202.50</td>\n",
       "      <td>1044.819946</td>\n",
       "      <td>3155.92</td>\n",
       "      <td>100.6030</td>\n",
       "      <td>113.1100</td>\n",
       "    </tr>\n",
       "    <tr>\n",
       "      <th>2008-01-07</th>\n",
       "      <td>5556.5930</td>\n",
       "      <td>5347.7900</td>\n",
       "      <td>15590.74</td>\n",
       "      <td>1957.440</td>\n",
       "      <td>1416.18</td>\n",
       "      <td>7817.17</td>\n",
       "      <td>200.26</td>\n",
       "      <td>1035.969971</td>\n",
       "      <td>3140.74</td>\n",
       "      <td>100.6610</td>\n",
       "      <td>112.9400</td>\n",
       "    </tr>\n",
       "    <tr>\n",
       "      <th>2008-01-08</th>\n",
       "      <td>5528.0540</td>\n",
       "      <td>5200.5520</td>\n",
       "      <td>15659.71</td>\n",
       "      <td>1910.330</td>\n",
       "      <td>1390.19</td>\n",
       "      <td>7849.99</td>\n",
       "      <td>203.90</td>\n",
       "      <td>1014.929993</td>\n",
       "      <td>3124.21</td>\n",
       "      <td>100.6960</td>\n",
       "      <td>112.6700</td>\n",
       "    </tr>\n",
       "    <tr>\n",
       "      <th>...</th>\n",
       "      <td>...</td>\n",
       "      <td>...</td>\n",
       "      <td>...</td>\n",
       "      <td>...</td>\n",
       "      <td>...</td>\n",
       "      <td>...</td>\n",
       "      <td>...</td>\n",
       "      <td>...</td>\n",
       "      <td>...</td>\n",
       "      <td>...</td>\n",
       "      <td>...</td>\n",
       "    </tr>\n",
       "    <tr>\n",
       "      <th>2019-06-19</th>\n",
       "      <td>3715.9381</td>\n",
       "      <td>4858.9164</td>\n",
       "      <td>10764.70</td>\n",
       "      <td>7667.738</td>\n",
       "      <td>2926.46</td>\n",
       "      <td>12308.53</td>\n",
       "      <td>302.21</td>\n",
       "      <td>2080.489990</td>\n",
       "      <td>2878.73</td>\n",
       "      <td>172.0159</td>\n",
       "      <td>216.7908</td>\n",
       "    </tr>\n",
       "    <tr>\n",
       "      <th>2019-06-20</th>\n",
       "      <td>3828.5183</td>\n",
       "      <td>4954.7338</td>\n",
       "      <td>10922.39</td>\n",
       "      <td>7738.055</td>\n",
       "      <td>2954.18</td>\n",
       "      <td>12355.39</td>\n",
       "      <td>308.58</td>\n",
       "      <td>2092.330078</td>\n",
       "      <td>2942.58</td>\n",
       "      <td>172.0855</td>\n",
       "      <td>216.9183</td>\n",
       "    </tr>\n",
       "    <tr>\n",
       "      <th>2019-06-21</th>\n",
       "      <td>3833.9383</td>\n",
       "      <td>5021.3051</td>\n",
       "      <td>10921.47</td>\n",
       "      <td>7728.782</td>\n",
       "      <td>2950.46</td>\n",
       "      <td>12339.92</td>\n",
       "      <td>311.00</td>\n",
       "      <td>2072.419922</td>\n",
       "      <td>2958.28</td>\n",
       "      <td>172.0783</td>\n",
       "      <td>216.9700</td>\n",
       "    </tr>\n",
       "    <tr>\n",
       "      <th>2019-06-24</th>\n",
       "      <td>3841.2659</td>\n",
       "      <td>5024.2046</td>\n",
       "      <td>10952.94</td>\n",
       "      <td>7723.021</td>\n",
       "      <td>2945.35</td>\n",
       "      <td>12274.57</td>\n",
       "      <td>313.26</td>\n",
       "      <td>2064.949951</td>\n",
       "      <td>2948.33</td>\n",
       "      <td>172.1222</td>\n",
       "      <td>217.2126</td>\n",
       "    </tr>\n",
       "    <tr>\n",
       "      <th>2019-06-25</th>\n",
       "      <td>3801.3098</td>\n",
       "      <td>4974.9882</td>\n",
       "      <td>10742.41</td>\n",
       "      <td>7723.021</td>\n",
       "      <td>2945.35</td>\n",
       "      <td>12274.57</td>\n",
       "      <td>319.91</td>\n",
       "      <td>2064.949951</td>\n",
       "      <td>2948.33</td>\n",
       "      <td>172.1222</td>\n",
       "      <td>217.2126</td>\n",
       "    </tr>\n",
       "  </tbody>\n",
       "</table>\n",
       "<p>2792 rows × 11 columns</p>\n",
       "</div>"
      ],
      "text/plain": [
       "            000300.SH  399905.SZ  HSCEI.HI    NDX.GI   SPX.GI  GDAXI.GI  \\\n",
       "TradeDate                                                                 \n",
       "2008-01-02  5385.1030  5123.9340  16006.81  2093.210  1447.16   7949.11   \n",
       "2008-01-03  5422.0340  5230.7490  15464.66  2051.760  1447.16   7908.41   \n",
       "2008-01-04  5483.6500  5243.0320  15903.40  1963.520  1411.63   7808.69   \n",
       "2008-01-07  5556.5930  5347.7900  15590.74  1957.440  1416.18   7817.17   \n",
       "2008-01-08  5528.0540  5200.5520  15659.71  1910.330  1390.19   7849.99   \n",
       "...               ...        ...       ...       ...      ...       ...   \n",
       "2019-06-19  3715.9381  4858.9164  10764.70  7667.738  2926.46  12308.53   \n",
       "2019-06-20  3828.5183  4954.7338  10922.39  7738.055  2954.18  12355.39   \n",
       "2019-06-21  3833.9383  5021.3051  10921.47  7728.782  2950.46  12339.92   \n",
       "2019-06-24  3841.2659  5024.2046  10952.94  7723.021  2945.35  12274.57   \n",
       "2019-06-25  3801.3098  4974.9882  10742.41  7723.021  2945.35  12274.57   \n",
       "\n",
       "            AU9999.SGE    TERGLU.FI  SPGOGUP.SPI  930849.CSI  H11008.CSI  \n",
       "TradeDate                                                                 \n",
       "2008-01-02      196.46  1099.199951      3185.50    100.2610    112.6500  \n",
       "2008-01-03      200.80  1074.010010      3215.46    100.9540    112.8500  \n",
       "2008-01-04      202.50  1044.819946      3155.92    100.6030    113.1100  \n",
       "2008-01-07      200.26  1035.969971      3140.74    100.6610    112.9400  \n",
       "2008-01-08      203.90  1014.929993      3124.21    100.6960    112.6700  \n",
       "...                ...          ...          ...         ...         ...  \n",
       "2019-06-19      302.21  2080.489990      2878.73    172.0159    216.7908  \n",
       "2019-06-20      308.58  2092.330078      2942.58    172.0855    216.9183  \n",
       "2019-06-21      311.00  2072.419922      2958.28    172.0783    216.9700  \n",
       "2019-06-24      313.26  2064.949951      2948.33    172.1222    217.2126  \n",
       "2019-06-25      319.91  2064.949951      2948.33    172.1222    217.2126  \n",
       "\n",
       "[2792 rows x 11 columns]"
      ]
     },
     "execution_count": 5,
     "metadata": {},
     "output_type": "execute_result"
    }
   ],
   "source": [
    "df['TradeDate'] = pd.to_datetime(df['TradeDate'])\n",
    "#df.index = pd.DatetimeIndex(df.index)\n",
    "df = df.set_index('TradeDate')\n",
    "df"
   ]
  },
  {
   "cell_type": "code",
   "execution_count": 44,
   "metadata": {},
   "outputs": [],
   "source": [
    "df = df[['000300.SH','399905.SZ','HSCEI.HI','NDX.GI']]"
   ]
  },
  {
   "cell_type": "markdown",
   "metadata": {},
   "source": [
    "### 绘制各指数走势"
   ]
  },
  {
   "cell_type": "code",
   "execution_count": null,
   "metadata": {},
   "outputs": [],
   "source": [
    "import matplotlib.pyplot as plt\n",
    "import seaborn as sns\n",
    "from matplotlib import style\n",
    "#style.use('fivethirtyeight')\n",
    "#style.use('ggplot')\n",
    "sns.set_style(\"whitegrid\")\n",
    "#sns.color_palette(\"hls\", 12)\n",
    "#sns.set(style ='darkgrid',palette ='deep')\n",
    "fig, axes = plt.subplots(1,1,figsize=(18, 6))\n",
    "\n",
    "def plot(data):\n",
    "    sns.set(palette=\"muted\")\n",
    "    plt.plot(data, label=data.name, alpha=.6)\n",
    "    plt.rcParams['font.sans-serif']=['SimHei']\n",
    "plt.rcParams['axes.unicode_minus'] = False  \n",
    "data = df['2009-01-01':]\n",
    "data = data/data.iloc[0]*100 # 统一缩放到100为基点    \n",
    "data.apply(plot)\n",
    "plt.legend() \n",
    "plt.show()"
   ]
  },
  {
   "cell_type": "markdown",
   "metadata": {},
   "source": [
    "### 计算收益率\n",
    "将指数价格转换为收益率。这里采用简单收益率：\n",
    "\n",
    "> $R_{t}=\\frac{P_{t}-P_{t-1}}{P_{t-1}}$"
   ]
  },
  {
   "cell_type": "code",
   "execution_count": 7,
   "metadata": {},
   "outputs": [
    {
     "data": {
      "text/html": [
       "<div>\n",
       "<style scoped>\n",
       "    .dataframe tbody tr th:only-of-type {\n",
       "        vertical-align: middle;\n",
       "    }\n",
       "\n",
       "    .dataframe tbody tr th {\n",
       "        vertical-align: top;\n",
       "    }\n",
       "\n",
       "    .dataframe thead th {\n",
       "        text-align: right;\n",
       "    }\n",
       "</style>\n",
       "<table border=\"1\" class=\"dataframe\">\n",
       "  <thead>\n",
       "    <tr style=\"text-align: right;\">\n",
       "      <th></th>\n",
       "      <th>000300.SH</th>\n",
       "      <th>399905.SZ</th>\n",
       "      <th>HSCEI.HI</th>\n",
       "      <th>NDX.GI</th>\n",
       "      <th>SPX.GI</th>\n",
       "      <th>GDAXI.GI</th>\n",
       "      <th>AU9999.SGE</th>\n",
       "      <th>TERGLU.FI</th>\n",
       "      <th>SPGOGUP.SPI</th>\n",
       "      <th>930849.CSI</th>\n",
       "      <th>H11008.CSI</th>\n",
       "    </tr>\n",
       "    <tr>\n",
       "      <th>TradeDate</th>\n",
       "      <th></th>\n",
       "      <th></th>\n",
       "      <th></th>\n",
       "      <th></th>\n",
       "      <th></th>\n",
       "      <th></th>\n",
       "      <th></th>\n",
       "      <th></th>\n",
       "      <th></th>\n",
       "      <th></th>\n",
       "      <th></th>\n",
       "    </tr>\n",
       "  </thead>\n",
       "  <tbody>\n",
       "    <tr>\n",
       "      <th>2008-01-03</th>\n",
       "      <td>0.006858</td>\n",
       "      <td>0.020846</td>\n",
       "      <td>-0.033870</td>\n",
       "      <td>-0.019802</td>\n",
       "      <td>0.000000</td>\n",
       "      <td>-0.005120</td>\n",
       "      <td>0.022091</td>\n",
       "      <td>-0.022917</td>\n",
       "      <td>0.009405</td>\n",
       "      <td>0.006912</td>\n",
       "      <td>0.001775</td>\n",
       "    </tr>\n",
       "    <tr>\n",
       "      <th>2008-01-04</th>\n",
       "      <td>0.011364</td>\n",
       "      <td>0.002348</td>\n",
       "      <td>0.028370</td>\n",
       "      <td>-0.043007</td>\n",
       "      <td>-0.024552</td>\n",
       "      <td>-0.012609</td>\n",
       "      <td>0.008466</td>\n",
       "      <td>-0.027179</td>\n",
       "      <td>-0.018517</td>\n",
       "      <td>-0.003477</td>\n",
       "      <td>0.002304</td>\n",
       "    </tr>\n",
       "    <tr>\n",
       "      <th>2008-01-07</th>\n",
       "      <td>0.013302</td>\n",
       "      <td>0.019980</td>\n",
       "      <td>-0.019660</td>\n",
       "      <td>-0.003096</td>\n",
       "      <td>0.003223</td>\n",
       "      <td>0.001086</td>\n",
       "      <td>-0.011062</td>\n",
       "      <td>-0.008470</td>\n",
       "      <td>-0.004810</td>\n",
       "      <td>0.000577</td>\n",
       "      <td>-0.001503</td>\n",
       "    </tr>\n",
       "    <tr>\n",
       "      <th>2008-01-08</th>\n",
       "      <td>-0.005136</td>\n",
       "      <td>-0.027532</td>\n",
       "      <td>0.004424</td>\n",
       "      <td>-0.024067</td>\n",
       "      <td>-0.018352</td>\n",
       "      <td>0.004198</td>\n",
       "      <td>0.018176</td>\n",
       "      <td>-0.020309</td>\n",
       "      <td>-0.005263</td>\n",
       "      <td>0.000348</td>\n",
       "      <td>-0.002391</td>\n",
       "    </tr>\n",
       "    <tr>\n",
       "      <th>2008-01-09</th>\n",
       "      <td>0.015503</td>\n",
       "      <td>0.029983</td>\n",
       "      <td>0.030636</td>\n",
       "      <td>0.020347</td>\n",
       "      <td>0.013624</td>\n",
       "      <td>-0.008571</td>\n",
       "      <td>0.024179</td>\n",
       "      <td>0.002641</td>\n",
       "      <td>0.001684</td>\n",
       "      <td>0.000119</td>\n",
       "      <td>0.000533</td>\n",
       "    </tr>\n",
       "    <tr>\n",
       "      <th>...</th>\n",
       "      <td>...</td>\n",
       "      <td>...</td>\n",
       "      <td>...</td>\n",
       "      <td>...</td>\n",
       "      <td>...</td>\n",
       "      <td>...</td>\n",
       "      <td>...</td>\n",
       "      <td>...</td>\n",
       "      <td>...</td>\n",
       "      <td>...</td>\n",
       "      <td>...</td>\n",
       "    </tr>\n",
       "    <tr>\n",
       "      <th>2019-06-19</th>\n",
       "      <td>0.013175</td>\n",
       "      <td>0.012876</td>\n",
       "      <td>0.024463</td>\n",
       "      <td>0.004235</td>\n",
       "      <td>0.002985</td>\n",
       "      <td>-0.001883</td>\n",
       "      <td>-0.004578</td>\n",
       "      <td>0.004141</td>\n",
       "      <td>0.001789</td>\n",
       "      <td>0.000221</td>\n",
       "      <td>0.000370</td>\n",
       "    </tr>\n",
       "    <tr>\n",
       "      <th>2019-06-20</th>\n",
       "      <td>0.030297</td>\n",
       "      <td>0.019720</td>\n",
       "      <td>0.014649</td>\n",
       "      <td>0.009171</td>\n",
       "      <td>0.009472</td>\n",
       "      <td>0.003807</td>\n",
       "      <td>0.021078</td>\n",
       "      <td>0.005691</td>\n",
       "      <td>0.022180</td>\n",
       "      <td>0.000405</td>\n",
       "      <td>0.000588</td>\n",
       "    </tr>\n",
       "    <tr>\n",
       "      <th>2019-06-21</th>\n",
       "      <td>0.001416</td>\n",
       "      <td>0.013436</td>\n",
       "      <td>-0.000084</td>\n",
       "      <td>-0.001198</td>\n",
       "      <td>-0.001259</td>\n",
       "      <td>-0.001252</td>\n",
       "      <td>0.007842</td>\n",
       "      <td>-0.009516</td>\n",
       "      <td>0.005335</td>\n",
       "      <td>-0.000042</td>\n",
       "      <td>0.000238</td>\n",
       "    </tr>\n",
       "    <tr>\n",
       "      <th>2019-06-24</th>\n",
       "      <td>0.001911</td>\n",
       "      <td>0.000577</td>\n",
       "      <td>0.002881</td>\n",
       "      <td>-0.000745</td>\n",
       "      <td>-0.001732</td>\n",
       "      <td>-0.005296</td>\n",
       "      <td>0.007267</td>\n",
       "      <td>-0.003604</td>\n",
       "      <td>-0.003363</td>\n",
       "      <td>0.000255</td>\n",
       "      <td>0.001118</td>\n",
       "    </tr>\n",
       "    <tr>\n",
       "      <th>2019-06-25</th>\n",
       "      <td>-0.010402</td>\n",
       "      <td>-0.009796</td>\n",
       "      <td>-0.019221</td>\n",
       "      <td>0.000000</td>\n",
       "      <td>0.000000</td>\n",
       "      <td>0.000000</td>\n",
       "      <td>0.021228</td>\n",
       "      <td>0.000000</td>\n",
       "      <td>0.000000</td>\n",
       "      <td>0.000000</td>\n",
       "      <td>0.000000</td>\n",
       "    </tr>\n",
       "  </tbody>\n",
       "</table>\n",
       "<p>2791 rows × 11 columns</p>\n",
       "</div>"
      ],
      "text/plain": [
       "            000300.SH  399905.SZ  HSCEI.HI    NDX.GI    SPX.GI  GDAXI.GI  \\\n",
       "TradeDate                                                                  \n",
       "2008-01-03   0.006858   0.020846 -0.033870 -0.019802  0.000000 -0.005120   \n",
       "2008-01-04   0.011364   0.002348  0.028370 -0.043007 -0.024552 -0.012609   \n",
       "2008-01-07   0.013302   0.019980 -0.019660 -0.003096  0.003223  0.001086   \n",
       "2008-01-08  -0.005136  -0.027532  0.004424 -0.024067 -0.018352  0.004198   \n",
       "2008-01-09   0.015503   0.029983  0.030636  0.020347  0.013624 -0.008571   \n",
       "...               ...        ...       ...       ...       ...       ...   \n",
       "2019-06-19   0.013175   0.012876  0.024463  0.004235  0.002985 -0.001883   \n",
       "2019-06-20   0.030297   0.019720  0.014649  0.009171  0.009472  0.003807   \n",
       "2019-06-21   0.001416   0.013436 -0.000084 -0.001198 -0.001259 -0.001252   \n",
       "2019-06-24   0.001911   0.000577  0.002881 -0.000745 -0.001732 -0.005296   \n",
       "2019-06-25  -0.010402  -0.009796 -0.019221  0.000000  0.000000  0.000000   \n",
       "\n",
       "            AU9999.SGE  TERGLU.FI  SPGOGUP.SPI  930849.CSI  H11008.CSI  \n",
       "TradeDate                                                               \n",
       "2008-01-03    0.022091  -0.022917     0.009405    0.006912    0.001775  \n",
       "2008-01-04    0.008466  -0.027179    -0.018517   -0.003477    0.002304  \n",
       "2008-01-07   -0.011062  -0.008470    -0.004810    0.000577   -0.001503  \n",
       "2008-01-08    0.018176  -0.020309    -0.005263    0.000348   -0.002391  \n",
       "2008-01-09    0.024179   0.002641     0.001684    0.000119    0.000533  \n",
       "...                ...        ...          ...         ...         ...  \n",
       "2019-06-19   -0.004578   0.004141     0.001789    0.000221    0.000370  \n",
       "2019-06-20    0.021078   0.005691     0.022180    0.000405    0.000588  \n",
       "2019-06-21    0.007842  -0.009516     0.005335   -0.000042    0.000238  \n",
       "2019-06-24    0.007267  -0.003604    -0.003363    0.000255    0.001118  \n",
       "2019-06-25    0.021228   0.000000     0.000000    0.000000    0.000000  \n",
       "\n",
       "[2791 rows x 11 columns]"
      ]
     },
     "execution_count": 7,
     "metadata": {},
     "output_type": "execute_result"
    }
   ],
   "source": [
    "def get_return_df(df):\n",
    "    returns_df = (df-df.shift(1))/df.shift(1) # 简单收益率\n",
    "    # returns_df = np.log(df/df.shift(1)) # 对数收益率\n",
    "    returns_df.dropna(axis='index', inplace=True) # 删除空数据\n",
    "    return returns_df\n",
    "index_return = get_return_df(df)\n",
    "index_return"
   ]
  },
  {
   "cell_type": "markdown",
   "metadata": {},
   "source": [
    "### 查看收益率分布直方图"
   ]
  },
  {
   "cell_type": "code",
   "execution_count": 8,
   "metadata": {},
   "outputs": [
    {
     "name": "stderr",
     "output_type": "stream",
     "text": [
      "findfont: Font family ['sans-serif'] not found. Falling back to DejaVu Sans.\n",
      "findfont: Generic family 'sans-serif' not found because none of the following families were found: SimHei\n"
     ]
    },
    {
     "data": {
      "image/png": "[encoded data removed]",
      "text/plain": [
       "<Figure size 1296x864 with 12 Axes>"
      ]
     },
     "metadata": {},
     "output_type": "display_data"
    }
   ],
   "source": [
    "hist = index_return.hist(bins=20, figsize=(18, 12)) # 查看收益率分布\n",
    "_ = plt.show()"
   ]
  },
  {
   "cell_type": "markdown",
   "metadata": {},
   "source": [
    "### 相关系数\n",
    "相关系数$\\rho_{A,B}=\\frac{\\sigma_{AB}}{\\sigma_{A}\\sigma_{B}}$ "
   ]
  },
  {
   "cell_type": "code",
   "execution_count": 9,
   "metadata": {},
   "outputs": [
    {
     "data": {
      "image/png": "[encoded data removed]",
      "text/plain": [
       "<Figure size 432x288 with 2 Axes>"
      ]
     },
     "metadata": {},
     "output_type": "display_data"
    }
   ],
   "source": [
    "corr = index_return.corr()\n",
    "corr_heatmap = sns.heatmap(corr, cmap=\"YlGnBu\", linewidths=.2)\n",
    "plt.show()"
   ]
  },
  {
   "cell_type": "markdown",
   "metadata": {},
   "source": [
    "## 2 模型"
   ]
  },
  {
   "cell_type": "markdown",
   "metadata": {},
   "source": [
    "回测区间：2009年1月1日至2019年6月25日（其中2009年数据用于初期样本内的计算）；\n",
    "\n",
    "调仓时间：每季度末最后一个交易日；\n",
    "\n",
    "样本窗口：每个调仓前240个哦交易日；\n",
    "\n",
    "资产配置模型：等权重资产配置模型(EW)，标准风险平价模型(RP)，主成分风险平价模型(PCRP)，引入预期风险估计的半衰风险平价模型(HRP)，引入预期风险估计的半衰主成分风险平价模型(HPCRP)，引入预期走势估计的主成分风险平价模型(TF-PCRP)，引入惩罚项的风险平价模型(lasso_RP)"
   ]
  },
  {
   "cell_type": "markdown",
   "metadata": {},
   "source": [
    "### 2.1 等权重资产配置模型  EW\n",
    "\n",
    "权重 $w_i=\\frac{1}{N}$"
   ]
  },
  {
   "cell_type": "code",
   "execution_count": 10,
   "metadata": {},
   "outputs": [],
   "source": [
    "def ew_weight_matrix(df):\n",
    "    \"\"\"返回等权重资产配置矩阵\"\"\"\n",
    "    period_type = 'Q'\n",
    "    df_weight= df.resample(period_type).last()\n",
    "    df_weight = df_weight[df_weight.index>='2008-12-31']\n",
    "    df_weight.iloc[:,:] = 1/df_weight.shape[1]        \n",
    "    return df_weight"
   ]
  },
  {
   "cell_type": "markdown",
   "metadata": {},
   "source": [
    "#### 模型权重分布"
   ]
  },
  {
   "cell_type": "code",
   "execution_count": 11,
   "metadata": {},
   "outputs": [
    {
     "data": {
      "image/png": "[encoded data removed]",
      "text/plain": [
       "<Figure size 720x360 with 1 Axes>"
      ]
     },
     "metadata": {},
     "output_type": "display_data"
    }
   ],
   "source": [
    "ew_weight = ew_weight_matrix(df)\n",
    "sns.set(style=\"whitegrid\")\n",
    "labels = ew_weight.columns.to_list()\n",
    "fig, ax = plt.subplots(figsize=(10,5))\n",
    "plt.title(\"EW模型权重分布图\")\n",
    "plt.yticks(np.arange(0, 1, step=0.2))\n",
    "ax.stackplot(ew_weight.index, ew_weight.T,baseline='zero',labels=labels)\n",
    "ax.legend(loc='upper left')\n",
    "plt.show()"
   ]
  },
  {
   "cell_type": "markdown",
   "metadata": {},
   "source": [
    "### 2.2  标准风险平价模型  RP "
   ]
  },
  {
   "cell_type": "code",
   "execution_count": 12,
   "metadata": {},
   "outputs": [],
   "source": [
    "from sklearn.covariance import EmpiricalCovariance\n",
    "from sklearn.datasets import make_gaussian_quantiles"
   ]
  },
  {
   "cell_type": "code",
   "execution_count": 13,
   "metadata": {},
   "outputs": [],
   "source": [
    "real_cov = np.array([[.8, .3],[.3, .4]])"
   ]
  },
  {
   "cell_type": "code",
   "execution_count": 14,
   "metadata": {},
   "outputs": [],
   "source": [
    "rng = np.random.RandomState(0)\n",
    "X = rng.multivariate_normal(mean=[0, 0],cov=real_cov,size=500)"
   ]
  },
  {
   "cell_type": "code",
   "execution_count": 15,
   "metadata": {},
   "outputs": [
    {
     "data": {
      "text/plain": [
       "(500, 2)"
      ]
     },
     "execution_count": 15,
     "metadata": {},
     "output_type": "execute_result"
    }
   ],
   "source": [
    "X.shape"
   ]
  },
  {
   "cell_type": "code",
   "execution_count": 16,
   "metadata": {},
   "outputs": [
    {
     "data": {
      "text/plain": [
       "EmpiricalCovariance()"
      ]
     },
     "execution_count": 16,
     "metadata": {},
     "output_type": "execute_result"
    }
   ],
   "source": [
    "cov = EmpiricalCovariance().fit(df)\n",
    "cov"
   ]
  },
  {
   "cell_type": "code",
   "execution_count": 17,
   "metadata": {},
   "outputs": [],
   "source": [
    "df = df.loc[df.index<'2008-12-31'] \n",
    "df = df.iloc[-240:] #每个调仓前240个交易日"
   ]
  },
  {
   "cell_type": "code",
   "execution_count": 18,
   "metadata": {},
   "outputs": [],
   "source": [
    "df = df/df.iloc[0]*100 # 统一缩放到100为基点\n",
    "returns_df = (df-df.shift(1))/df.shift(1) # 简单收益率\n",
    "    # returns_df = np.log(df/df.shift(1)) # 对数收益率\n",
    "returns_df.dropna(axis='index', inplace=True) # 删除空数据"
   ]
  },
  {
   "cell_type": "code",
   "execution_count": 19,
   "metadata": {},
   "outputs": [
    {
     "data": {
      "text/plain": [
       "(239, 11)"
      ]
     },
     "execution_count": 19,
     "metadata": {},
     "output_type": "execute_result"
    }
   ],
   "source": [
    "returns_df.shape"
   ]
  },
  {
   "cell_type": "code",
   "execution_count": 20,
   "metadata": {},
   "outputs": [],
   "source": [
    "def calculate_cov_matrix(df):\n",
    "    \"\"\"计算协方差矩阵\"\"\"\n",
    "    df = df/df.iloc[0]*100 # 统一缩放到100为基点\n",
    "    returns_df = (df-df.shift(1))/df.shift(1) # 简单收益率\n",
    "    # returns_df = np.log(df/df.shift(1)) # 对数收益率\n",
    "    returns_df.dropna(axis='index', inplace=True) # 删除空数据\n",
    "    one_cov_matrix = returns_df.cov()*240\n",
    "    return np.matrix(one_cov_matrix)"
   ]
  },
  {
   "cell_type": "code",
   "execution_count": 21,
   "metadata": {},
   "outputs": [],
   "source": [
    "def get_train_set(change_time,df):\n",
    "    \"\"\"返回训练样本数据\"\"\"\n",
    "# change_time: 调仓时间\n",
    "    df = df.loc[df.index<change_time] \n",
    "    df = df.iloc[-240:] # 每个调仓前240个交易日\n",
    "    return df "
   ]
  },
  {
   "cell_type": "markdown",
   "metadata": {},
   "source": [
    "#### 标准风险平价下要优化的目标函数\n",
    "$min \\sum_{i=1}^{n} \\sum_{j=1}^{n} [w_i(\\Sigma w)_i - w_j(\\Sigma w)_j ]^2$\n",
    "\n",
    "subject to $\\sum_{i=1}^{n}w_i =1, ~~ 0\\le w_i \\le 1$\n",
    "\n",
    "总的风险贡献就是组合的波动率$\\sigma_p$，设有n个资产，风险平价下，即每个资产的风险贡献等于$\\frac{1}{n}\\sigma_p$\n",
    "\n",
    "$min \\sum_{i=1}^{n}[RC_i - \\frac{1}{n} \\sigma_p ]^2$\n",
    "\n",
    "其中 $RC_i = w_i \\frac{(\\Sigma w)_i}{\\sqrt{w^T \\Sigma w}}$"
   ]
  },
  {
   "cell_type": "code",
   "execution_count": 37,
   "metadata": {},
   "outputs": [],
   "source": [
    "# 标准风险平价下的风险贡献\n",
    "def calculate_risk_contribution(weight,one_cov_matrix):\n",
    "    weight=np.matrix(weight) \n",
    "#     print(weight)\n",
    "    sigma=np.sqrt(weight*one_cov_matrix*weight.T)\n",
    "    # 边际风险贡献 Marginal Risk Contribution (MRC)\n",
    "    MRC=one_cov_matrix*weight.T/sigma\n",
    "    # 风险贡献 Risk Contribution (RC)\n",
    "    RC=np.multiply(MRC,weight.T)\n",
    "    return RC"
   ]
  },
  {
   "cell_type": "code",
   "execution_count": 46,
   "metadata": {},
   "outputs": [],
   "source": [
    "import scipy.optimize as sco\n",
    "import scipy.interpolate as sci\n",
    "\n",
    "# 定义优化问题的目标函数，即最小化资产之间的风险贡献差\n",
    "def naive_risk_parity(weight,parameters): \n",
    "    # weight: 待求解的资产权重,\n",
    "    # parameters: 参数列表 \n",
    "    # parameters[0]: 协方差矩阵\n",
    "    # parameters[1]: 风险平价下的目标风险贡献度向量\n",
    "\n",
    "    one_cov_matrix=parameters[0]\n",
    "    RC_target_ratio=parameters[1] \n",
    "    # RC_target为风险平价下的目标风险贡献，一旦参数传递以后，RC_target就是一个常数，不随迭代而改变\n",
    "    print('weight',weight)\n",
    "#     print('one_cov_matrix',one_cov_matrix)\n",
    "#     print('np.matrix(weight).T',np.matrix(weight).T)\n",
    "#     print('one_cov_matrix*np.matrix(weight).T',one_cov_matrix*np.matrix(weight).T)\n",
    "#     print(weight*one_cov_matrix*np.matrix(weight).T)\n",
    "    sigma_portfolio=np.sqrt(weight*one_cov_matrix*np.matrix(weight).T)     # 组合波动率\n",
    "    RC_target=np.asmatrix(np.multiply(sigma_portfolio,RC_target_ratio))    # 目标风险贡献\n",
    "    # RC_real是 每次迭代以后最新的真实风险贡献，随迭代而改变\n",
    "    RC_real=calculate_risk_contribution(weight,one_cov_matrix)\n",
    "    sum_squared_error= sum(np.square(RC_real-RC_target.T))[0,0] \n",
    "    return sum_squared_error "
   ]
  },
  {
   "cell_type": "code",
   "execution_count": 24,
   "metadata": {},
   "outputs": [],
   "source": [
    "# 根据资产预期目标风险贡献度来计算各资产的权重\n",
    "def calculate_portfolio_weight(one_cov_matrix,risk_budget_objective):\n",
    "    '''\n",
    "约束条件的类型只有'eq'和'ineq'两种\n",
    "eq表示约束方程的返回结果为0\n",
    "ineq表示约束方程的返回结果为非负数\n",
    "'''\n",
    "    num = data.shape[1]\n",
    "    x0 = np.array([1.0 / num for _ in range(num)]) # 初始资产权重\n",
    "    bounds = tuple((0, 1) for _ in range(num))     # 取值范围(0,1)\n",
    "\n",
    "    cons_1 = ({'type': 'eq', 'fun': lambda x: sum(x) - 1},)   #权重和为1\n",
    "    RC_set_ratio = np.array([1.0 / num for _ in range(num)])   #风险平价下每个资产的目标风险贡献度相等\n",
    "    optv = sco.minimize(risk_budget_objective, x0, args=[one_cov_matrix,RC_set_ratio], method='SLSQP', bounds=bounds, constraints=cons_1)\n",
    "    return optv.x"
   ]
  },
  {
   "cell_type": "code",
   "execution_count": 35,
   "metadata": {},
   "outputs": [],
   "source": [
    "def get_weight_matrix(df,method=None,half=False):\n",
    "    \"\"\"返回资产权重矩阵\"\"\"\n",
    "    period_type = 'Q'\n",
    "    df_weight= df.resample(period_type).last()\n",
    "    df_weight = df_weight[df_weight.index>='2008-12-31']\n",
    "            \n",
    "    for i in range(len(df_weight.index)):\n",
    "        change_time = df_weight.index[i]\n",
    "\n",
    "    #next_change_time = df_weight.index[i+1]\n",
    "        train_set = get_train_set(change_time,df)\n",
    "        # 是否使用半衰协方差矩阵\n",
    "        if half == True:\n",
    "            one_cov_matrix = calculate_half_cov_matrix(train_set)\n",
    "        else:\n",
    "            one_cov_matrix = calculate_cov_matrix(train_set)\n",
    "        # 是否使用主成分分析\n",
    "        if method == 'pca':\n",
    "            df_weight.iloc[i] = calculate_portfolio_weight(one_cov_matrix,pca_risk_parity)\n",
    "        elif method =='lasso':\n",
    "            df_weight.iloc[i] = calculate_portfolio_weight(one_cov_matrix,lasso_risk_parity)\n",
    "        else:\n",
    "            df_weight.iloc[i] = calculate_portfolio_weight(one_cov_matrix,naive_risk_parity)\n",
    "        #backtest_set = get_backtest_set(change_time,next_change_time,df)    \n",
    "        #df_weight.iloc[i] = calculate_portfolio_weight(one_cov_matrix) \n",
    "    return df_weight"
   ]
  },
  {
   "cell_type": "markdown",
   "metadata": {},
   "source": [
    "#### 模型权重分布"
   ]
  },
  {
   "cell_type": "code",
   "execution_count": 47,
   "metadata": {},
   "outputs": [
    {
     "name": "stdout",
     "output_type": "stream",
     "text": [
      "weight [0.25 0.25 0.25 0.25]\n",
      "weight [0.25000001 0.25       0.25       0.25      ]\n",
      "weight [0.25       0.25000001 0.25       0.25      ]\n",
      "weight [0.25       0.25       0.25000001 0.25      ]\n",
      "weight [0.25       0.25       0.25       0.25000001]\n",
      "weight [0.24907884 0.24446118 0.21445474 0.29200523]\n",
      "weight [0.24907886 0.24446118 0.21445474 0.29200523]\n",
      "weight [0.24907884 0.2444612  0.21445474 0.29200523]\n",
      "weight [0.24907884 0.24446118 0.21445476 0.29200523]\n",
      "weight [0.24907884 0.24446118 0.21445474 0.29200524]\n",
      "weight [0.22703281 0.20868791 0.14839863 0.41588065]\n",
      "weight [0.22703283 0.20868791 0.14839863 0.41588065]\n",
      "weight [0.22703281 0.20868793 0.14839863 0.41588065]\n",
      "weight [0.22703281 0.20868791 0.14839864 0.41588065]\n",
      "weight [0.22703281 0.20868791 0.14839863 0.41588066]\n",
      "weight [0.23282121 0.22053426 0.17517557 0.37146897]\n",
      "weight [0.23282122 0.22053426 0.17517557 0.37146897]\n",
      "weight [0.23282121 0.22053427 0.17517557 0.37146897]\n",
      "weight [0.23282121 0.22053426 0.17517558 0.37146897]\n",
      "weight [0.23282121 0.22053426 0.17517557 0.37146898]\n",
      "weight [0.22929797 0.21736018 0.17329241 0.38004944]\n",
      "weight [0.22929798 0.21736018 0.17329241 0.38004944]\n",
      "weight [0.22929797 0.21736019 0.17329241 0.38004944]\n",
      "weight [0.22929797 0.21736018 0.17329243 0.38004944]\n",
      "weight [0.22929797 0.21736018 0.17329241 0.38004946]\n",
      "weight [0.22697617 0.21647063 0.17436054 0.38219266]\n",
      "weight [0.22697619 0.21647063 0.17436054 0.38219266]\n",
      "weight [0.22697617 0.21647065 0.17436054 0.38219266]\n",
      "weight [0.22697617 0.21647063 0.17436055 0.38219266]\n",
      "weight [0.22697617 0.21647063 0.17436054 0.38219267]\n",
      "weight [0.22596146 0.2166899  0.17518795 0.38216068]\n"
     ]
    }
   ],
   "source": [
    "df_weight_rp = get_weight_matrix(df,method=None)"
   ]
  },
  {
   "cell_type": "code",
   "execution_count": 27,
   "metadata": {},
   "outputs": [
    {
     "data": {
      "text/html": [
       "<div>\n",
       "<style scoped>\n",
       "    .dataframe tbody tr th:only-of-type {\n",
       "        vertical-align: middle;\n",
       "    }\n",
       "\n",
       "    .dataframe tbody tr th {\n",
       "        vertical-align: top;\n",
       "    }\n",
       "\n",
       "    .dataframe thead th {\n",
       "        text-align: right;\n",
       "    }\n",
       "</style>\n",
       "<table border=\"1\" class=\"dataframe\">\n",
       "  <thead>\n",
       "    <tr style=\"text-align: right;\">\n",
       "      <th></th>\n",
       "      <th>000300.SH</th>\n",
       "      <th>399905.SZ</th>\n",
       "      <th>HSCEI.HI</th>\n",
       "      <th>NDX.GI</th>\n",
       "      <th>SPX.GI</th>\n",
       "      <th>GDAXI.GI</th>\n",
       "      <th>AU9999.SGE</th>\n",
       "      <th>TERGLU.FI</th>\n",
       "      <th>SPGOGUP.SPI</th>\n",
       "      <th>930849.CSI</th>\n",
       "      <th>H11008.CSI</th>\n",
       "    </tr>\n",
       "    <tr>\n",
       "      <th>TradeDate</th>\n",
       "      <th></th>\n",
       "      <th></th>\n",
       "      <th></th>\n",
       "      <th></th>\n",
       "      <th></th>\n",
       "      <th></th>\n",
       "      <th></th>\n",
       "      <th></th>\n",
       "      <th></th>\n",
       "      <th></th>\n",
       "      <th></th>\n",
       "    </tr>\n",
       "  </thead>\n",
       "  <tbody>\n",
       "    <tr>\n",
       "      <th>2008-12-31</th>\n",
       "      <td>0.03218</td>\n",
       "      <td>0.032861</td>\n",
       "      <td>0.019293</td>\n",
       "      <td>0.029591</td>\n",
       "      <td>0.028365</td>\n",
       "      <td>0.033085</td>\n",
       "      <td>0.085143</td>\n",
       "      <td>0.023275</td>\n",
       "      <td>0.021596</td>\n",
       "      <td>0.405558</td>\n",
       "      <td>0.289052</td>\n",
       "    </tr>\n",
       "  </tbody>\n",
       "</table>\n",
       "</div>"
      ],
      "text/plain": [
       "            000300.SH  399905.SZ  HSCEI.HI    NDX.GI    SPX.GI  GDAXI.GI  \\\n",
       "TradeDate                                                                  \n",
       "2008-12-31    0.03218   0.032861  0.019293  0.029591  0.028365  0.033085   \n",
       "\n",
       "            AU9999.SGE  TERGLU.FI  SPGOGUP.SPI  930849.CSI  H11008.CSI  \n",
       "TradeDate                                                               \n",
       "2008-12-31    0.085143   0.023275     0.021596    0.405558    0.289052  "
      ]
     },
     "execution_count": 27,
     "metadata": {},
     "output_type": "execute_result"
    }
   ],
   "source": [
    "df_weight_rp"
   ]
  },
  {
   "cell_type": "code",
   "execution_count": 28,
   "metadata": {},
   "outputs": [
    {
     "data": {
      "image/png": "[encoded data removed]",
      "text/plain": [
       "<Figure size 720x360 with 1 Axes>"
      ]
     },
     "metadata": {},
     "output_type": "display_data"
    }
   ],
   "source": [
    "df_weight_rp = get_weight_matrix(df,method=None)\n",
    "#plt.style.context('Solarize_Light2')\n",
    "for i in range(df_weight_rp.shape[0]):\n",
    "    df_weight_rp.iloc[i] = df_weight_rp.iloc[i]/df_weight_rp.iloc[i].sum()\n",
    "labels = df_weight_rp.columns.to_list()\n",
    "fig, ax = plt.subplots(figsize=(10,5))\n",
    "#variable_name = list(dict(df=df).keys())[0]\n",
    "#variable_name = variable_name.split(\"_\")[-1]\n",
    "plt.title(\"RP模型权重分布图\")\n",
    "plt.yticks(np.arange(0, 1, step=0.2))\n",
    "ax.stackplot(df_weight_rp.index, df_weight_rp.T,baseline='zero',labels=labels)\n",
    "ax.legend(loc='upper left')\n",
    "plt.show()"
   ]
  },
  {
   "cell_type": "markdown",
   "metadata": {},
   "source": [
    "### 2.3 主成分风险平价模型  PCRP\n",
    "\n",
    "标准风险平价有一些缺陷，例如1.模型要求资产间的相关性尽可能低，但是事实上现有资产间的相关性是非常高的，2.模型会在所有资产间分配权重，即便投资标\n",
    "\n",
    "的中有两种相关性极高的资产。\n",
    "\n",
    "针对这两个问题，可以使用主成分分析的方法，对原始资产线性变化形成互不相关的资产组合。\n",
    "\n",
    "设原始变量是$x$,主成分分析是一种线性变换手段，主要是使得变换后的变量$\\beta x$的方差最大，\n",
    "\n",
    "$Var(\\beta x)=\\beta^t \\Sigma \\beta$，其中$\\Sigma$是协方差矩阵，显然就是\n",
    "\n",
    "$f(\\beta)=\\beta^t \\Sigma \\beta +\\lambda (1-\\beta^t\\beta)$\n",
    "\n",
    "这是一个拉格朗日乘子式，求导就能得到$\\beta$就是$\\Sigma$的特征向量，进而主成分线性无关。\n",
    "\n",
    "#### 基于主成分分析的风险平价下要优化的目标函数 \n",
    "\n",
    "与简单风险平价相比，区别在于修改风险贡献  \n",
    "\n",
    "$RC_{PC,i}=\\frac{(E^T w)_i \\dot (E^T \\Sigma w)_i}{\\sqrt{w^T \\Sigma w}}$   \n",
    "\n",
    "其中 $E \\Delta E^T = \\Sigma$"
   ]
  },
  {
   "cell_type": "code",
   "execution_count": 29,
   "metadata": {},
   "outputs": [],
   "source": [
    "# 基于主成分分析的风险平价下的风险贡献\n",
    "def calculate_risk_contribution_pca(weight,one_cov_matrix):\n",
    "    weight=np.matrix(weight) \n",
    "    sigma=np.sqrt(weight*one_cov_matrix*weight.T)\n",
    "    # 奇异值分解，其中uv=I ,u,v是特征向量矩阵，是正交阵，d是对角矩阵，对角元素是特征值，tr(d)=tr(one_cov_matrix)\n",
    "    u,d,v = np.linalg.svd(one_cov_matrix)\n",
    "    a = v*weight.T\n",
    "    b=v*(one_cov_matrix*weight.T)\n",
    "    # 风险贡献 Risk Contribution (RC)\n",
    "    RC=np.multiply(a,b)\n",
    "    RC=RC/sigma\n",
    "    return RC"
   ]
  },
  {
   "cell_type": "code",
   "execution_count": 30,
   "metadata": {},
   "outputs": [],
   "source": [
    "# 定义优化问题的目标函数，即最小化资产之间的风险贡献差\n",
    "def pca_risk_parity(weight,parameters):\n",
    "    # weight: 待求解的资产权重,\n",
    "    # parameters: 参数列表 \n",
    "    # parameters[0]: 协方差矩阵\n",
    "    # parameters[1]: 风险平价下的目标风险贡献度向量\n",
    "\n",
    "    one_cov_matrix=parameters[0]\n",
    "    RC_target_ratio=parameters[1] \n",
    "    # RC_target为风险平价下的目标风险贡献，一旦参数传递以后，RC_target就是一个常数，不随迭代而改变\n",
    "    sigma_portfolio=np.sqrt(weight*one_cov_matrix*np.matrix(weight).T) # 组合波动率\n",
    "    RC_target=np.asmatrix(np.multiply(sigma_portfolio,RC_target_ratio))    # 目标风险贡献\n",
    "    # RC_real是 每次迭代以后最新的真实风险贡献，随迭代而改变\n",
    "    RC_real=calculate_risk_contribution_pca(weight,one_cov_matrix)\n",
    "    sum_squared_error= sum(np.square(RC_real-RC_target.T))[0,0] \n",
    "    return sum_squared_error     "
   ]
  },
  {
   "cell_type": "code",
   "execution_count": 31,
   "metadata": {},
   "outputs": [
    {
     "data": {
      "image/png": "[encoded data removed]",
      "text/plain": [
       "<Figure size 720x360 with 1 Axes>"
      ]
     },
     "metadata": {},
     "output_type": "display_data"
    }
   ],
   "source": [
    "df_weight_pcrp = get_weight_matrix(df,method='pca')\n",
    "#plt.style.context('Solarize_Light2')\n",
    "#for i in range(df_weight_pcrp.shape[0]):\n",
    "#    df_weight_pcrp.iloc[i] = df_weight_pcrp.iloc[i]/df_weight_pcrp.iloc[i].sum()\n",
    "labels = df_weight_pcrp.columns.to_list()\n",
    "fig, ax = plt.subplots(figsize=(10,5))\n",
    "#variable_name = list(dict(df=df).keys())[0]\n",
    "#variable_name = variable_name.split(\"_\")[-1]\n",
    "plt.title(\"PCRP模型权重分布图\")\n",
    "plt.yticks(np.arange(0, 1, step=0.2))\n",
    "ax.stackplot(df_weight_pcrp.index, df_weight_pcrp.T,baseline='zero',labels=labels)\n",
    "ax.legend(loc='upper left')\n",
    "plt.show()"
   ]
  },
  {
   "cell_type": "markdown",
   "metadata": {},
   "source": [
    "### 2.4 引入预期风险估计：衰减加权法\n",
    "\n",
    "主成分风险平价仍然没有解决这两个问题，一是没有考虑资产未来收益表现，如果所有资产均下跌，模型依然会给资产分配权重，二是我们使用过去240个交易日\n",
    "\n",
    "估计协方差矩阵，并进行季度调仓，这隐含着风格持续不变的假设，那么考虑到波动率的聚集性，我们基于资产短期动量的思想，估计协方差矩阵。\n",
    "\n",
    "以60个交易日为分界，计算每期过去240个交易日的四个阶段协方差$(\\Sigma_1,\\Sigma_2,\\Sigma_3,\\Sigma_4)$,\n",
    "\n",
    "以衰退的权重$(w_1,w_2,w_3,w_4;w_1\\ge w_2 \\ge w_3 \\ge w4;\\sum w_i =1)$进行加权形成当期的协方差，即\n",
    "\n",
    "$$\\Sigma_h = w_1\\Sigma_1+w_2\\Sigma_2+w_3\\Sigma_3+w_4\\Sigma_4$$\n",
    "\n",
    "其中$\\Sigma_h$表示以衰退权重加权形成的协方差矩阵，其更能反映最近一段时间的市场风格，在此处我们选择的衰退权重为[4/10,3/10,2/10,1/10]。\n",
    "\n",
    "具体详见《20170918-天风证券-天风证券金工专题报告：基于半衰主成分风险平价模型的全球资产配置策略研究》第14页。"
   ]
  },
  {
   "cell_type": "code",
   "execution_count": 32,
   "metadata": {},
   "outputs": [
    {
     "data": {
      "image/png": "[encoded data removed]",
      "text/plain": [
       "<Figure size 1120x480 with 1 Axes>"
      ]
     },
     "metadata": {},
     "output_type": "display_data"
    }
   ],
   "source": [
    "import matplotlib.pyplot as plt\n",
    "plt.style.use('classic')\n",
    "plt.figure(figsize = (14,6))\n",
    "index_return['000300.SH'].plot()\n",
    "plt.title('沪深300指数收益率')\n",
    "plt.show()"
   ]
  },
  {
   "cell_type": "markdown",
   "metadata": {},
   "source": [
    "#### 由上面的时间序列图可以看出，指数很明显存在波动聚集性\n",
    "\n",
    "在我们之前的分析中，我们隐含的假设了收益率是序列无关的数据，也就是白噪声序列，但是一般来讲金融时间序列常常存在一种波动聚集性"
   ]
  },
  {
   "cell_type": "markdown",
   "metadata": {},
   "source": [
    "### 半衰主成分风险平价模型 HPCRP"
   ]
  },
  {
   "cell_type": "code",
   "execution_count": 33,
   "metadata": {},
   "outputs": [
    {
     "ename": "FileNotFoundError",
     "evalue": "[Errno 2] No such file or directory: 'C:\\\\Users\\\\corem\\\\Documents\\\\衰退周期.JPG'",
     "output_type": "error",
     "traceback": [
      "\u001b[0;31m---------------------------------------------------------------------------\u001b[0m",
      "\u001b[0;31mFileNotFoundError\u001b[0m                         Traceback (most recent call last)",
      "\u001b[0;32m/var/folders/bm/wl4738qx08b4r1vvn6jpygfh0000gn/T/ipykernel_79367/3392203916.py\u001b[0m in \u001b[0;36m<module>\u001b[0;34m\u001b[0m\n\u001b[1;32m      1\u001b[0m \u001b[0;32mfrom\u001b[0m \u001b[0mIPython\u001b[0m\u001b[0;34m.\u001b[0m\u001b[0mdisplay\u001b[0m \u001b[0;32mimport\u001b[0m \u001b[0mImage\u001b[0m\u001b[0;34m\u001b[0m\u001b[0;34m\u001b[0m\u001b[0m\n\u001b[0;32m----> 2\u001b[0;31m \u001b[0mImage\u001b[0m\u001b[0;34m(\u001b[0m\u001b[0mfilename\u001b[0m \u001b[0;34m=\u001b[0m \u001b[0;34mr'C:\\Users\\corem\\Documents\\衰退周期.JPG'\u001b[0m\u001b[0;34m,\u001b[0m \u001b[0mwidth\u001b[0m\u001b[0;34m=\u001b[0m\u001b[0;36m800\u001b[0m\u001b[0;34m,\u001b[0m \u001b[0mheight\u001b[0m\u001b[0;34m=\u001b[0m\u001b[0;36m200\u001b[0m\u001b[0;34m)\u001b[0m\u001b[0;34m\u001b[0m\u001b[0;34m\u001b[0m\u001b[0m\n\u001b[0m",
      "\u001b[0;32m~/opt/anaconda3/lib/python3.9/site-packages/IPython/core/display.py\u001b[0m in \u001b[0;36m__init__\u001b[0;34m(self, data, url, filename, format, embed, width, height, retina, unconfined, metadata)\u001b[0m\n\u001b[1;32m   1229\u001b[0m         \u001b[0mself\u001b[0m\u001b[0;34m.\u001b[0m\u001b[0mretina\u001b[0m \u001b[0;34m=\u001b[0m \u001b[0mretina\u001b[0m\u001b[0;34m\u001b[0m\u001b[0;34m\u001b[0m\u001b[0m\n\u001b[1;32m   1230\u001b[0m         \u001b[0mself\u001b[0m\u001b[0;34m.\u001b[0m\u001b[0munconfined\u001b[0m \u001b[0;34m=\u001b[0m \u001b[0munconfined\u001b[0m\u001b[0;34m\u001b[0m\u001b[0;34m\u001b[0m\u001b[0m\n\u001b[0;32m-> 1231\u001b[0;31m         super(Image, self).__init__(data=data, url=url, filename=filename, \n\u001b[0m\u001b[1;32m   1232\u001b[0m                 metadata=metadata)\n\u001b[1;32m   1233\u001b[0m \u001b[0;34m\u001b[0m\u001b[0m\n",
      "\u001b[0;32m~/opt/anaconda3/lib/python3.9/site-packages/IPython/core/display.py\u001b[0m in \u001b[0;36m__init__\u001b[0;34m(self, data, url, filename, metadata)\u001b[0m\n\u001b[1;32m    635\u001b[0m             \u001b[0mself\u001b[0m\u001b[0;34m.\u001b[0m\u001b[0mmetadata\u001b[0m \u001b[0;34m=\u001b[0m \u001b[0;34m{\u001b[0m\u001b[0;34m}\u001b[0m\u001b[0;34m\u001b[0m\u001b[0;34m\u001b[0m\u001b[0m\n\u001b[1;32m    636\u001b[0m \u001b[0;34m\u001b[0m\u001b[0m\n\u001b[0;32m--> 637\u001b[0;31m         \u001b[0mself\u001b[0m\u001b[0;34m.\u001b[0m\u001b[0mreload\u001b[0m\u001b[0;34m(\u001b[0m\u001b[0;34m)\u001b[0m\u001b[0;34m\u001b[0m\u001b[0;34m\u001b[0m\u001b[0m\n\u001b[0m\u001b[1;32m    638\u001b[0m         \u001b[0mself\u001b[0m\u001b[0;34m.\u001b[0m\u001b[0m_check_data\u001b[0m\u001b[0;34m(\u001b[0m\u001b[0;34m)\u001b[0m\u001b[0;34m\u001b[0m\u001b[0;34m\u001b[0m\u001b[0m\n\u001b[1;32m    639\u001b[0m \u001b[0;34m\u001b[0m\u001b[0m\n",
      "\u001b[0;32m~/opt/anaconda3/lib/python3.9/site-packages/IPython/core/display.py\u001b[0m in \u001b[0;36mreload\u001b[0;34m(self)\u001b[0m\n\u001b[1;32m   1261\u001b[0m         \u001b[0;34m\"\"\"Reload the raw data from file or URL.\"\"\"\u001b[0m\u001b[0;34m\u001b[0m\u001b[0;34m\u001b[0m\u001b[0m\n\u001b[1;32m   1262\u001b[0m         \u001b[0;32mif\u001b[0m \u001b[0mself\u001b[0m\u001b[0;34m.\u001b[0m\u001b[0membed\u001b[0m\u001b[0;34m:\u001b[0m\u001b[0;34m\u001b[0m\u001b[0;34m\u001b[0m\u001b[0m\n\u001b[0;32m-> 1263\u001b[0;31m             \u001b[0msuper\u001b[0m\u001b[0;34m(\u001b[0m\u001b[0mImage\u001b[0m\u001b[0;34m,\u001b[0m\u001b[0mself\u001b[0m\u001b[0;34m)\u001b[0m\u001b[0;34m.\u001b[0m\u001b[0mreload\u001b[0m\u001b[0;34m(\u001b[0m\u001b[0;34m)\u001b[0m\u001b[0;34m\u001b[0m\u001b[0;34m\u001b[0m\u001b[0m\n\u001b[0m\u001b[1;32m   1264\u001b[0m             \u001b[0;32mif\u001b[0m \u001b[0mself\u001b[0m\u001b[0;34m.\u001b[0m\u001b[0mretina\u001b[0m\u001b[0;34m:\u001b[0m\u001b[0;34m\u001b[0m\u001b[0;34m\u001b[0m\u001b[0m\n\u001b[1;32m   1265\u001b[0m                 \u001b[0mself\u001b[0m\u001b[0;34m.\u001b[0m\u001b[0m_retina_shape\u001b[0m\u001b[0;34m(\u001b[0m\u001b[0;34m)\u001b[0m\u001b[0;34m\u001b[0m\u001b[0;34m\u001b[0m\u001b[0m\n",
      "\u001b[0;32m~/opt/anaconda3/lib/python3.9/site-packages/IPython/core/display.py\u001b[0m in \u001b[0;36mreload\u001b[0;34m(self)\u001b[0m\n\u001b[1;32m    660\u001b[0m         \u001b[0;34m\"\"\"Reload the raw data from file or URL.\"\"\"\u001b[0m\u001b[0;34m\u001b[0m\u001b[0;34m\u001b[0m\u001b[0m\n\u001b[1;32m    661\u001b[0m         \u001b[0;32mif\u001b[0m \u001b[0mself\u001b[0m\u001b[0;34m.\u001b[0m\u001b[0mfilename\u001b[0m \u001b[0;32mis\u001b[0m \u001b[0;32mnot\u001b[0m \u001b[0;32mNone\u001b[0m\u001b[0;34m:\u001b[0m\u001b[0;34m\u001b[0m\u001b[0;34m\u001b[0m\u001b[0m\n\u001b[0;32m--> 662\u001b[0;31m             \u001b[0;32mwith\u001b[0m \u001b[0mopen\u001b[0m\u001b[0;34m(\u001b[0m\u001b[0mself\u001b[0m\u001b[0;34m.\u001b[0m\u001b[0mfilename\u001b[0m\u001b[0;34m,\u001b[0m \u001b[0mself\u001b[0m\u001b[0;34m.\u001b[0m\u001b[0m_read_flags\u001b[0m\u001b[0;34m)\u001b[0m \u001b[0;32mas\u001b[0m \u001b[0mf\u001b[0m\u001b[0;34m:\u001b[0m\u001b[0;34m\u001b[0m\u001b[0;34m\u001b[0m\u001b[0m\n\u001b[0m\u001b[1;32m    663\u001b[0m                 \u001b[0mself\u001b[0m\u001b[0;34m.\u001b[0m\u001b[0mdata\u001b[0m \u001b[0;34m=\u001b[0m \u001b[0mf\u001b[0m\u001b[0;34m.\u001b[0m\u001b[0mread\u001b[0m\u001b[0;34m(\u001b[0m\u001b[0;34m)\u001b[0m\u001b[0;34m\u001b[0m\u001b[0;34m\u001b[0m\u001b[0m\n\u001b[1;32m    664\u001b[0m         \u001b[0;32melif\u001b[0m \u001b[0mself\u001b[0m\u001b[0;34m.\u001b[0m\u001b[0murl\u001b[0m \u001b[0;32mis\u001b[0m \u001b[0;32mnot\u001b[0m \u001b[0;32mNone\u001b[0m\u001b[0;34m:\u001b[0m\u001b[0;34m\u001b[0m\u001b[0;34m\u001b[0m\u001b[0m\n",
      "\u001b[0;31mFileNotFoundError\u001b[0m: [Errno 2] No such file or directory: 'C:\\\\Users\\\\corem\\\\Documents\\\\衰退周期.JPG'"
     ]
    }
   ],
   "source": [
    "from IPython.display import Image\n",
    "Image(filename = r'C:\\Users\\corem\\Documents\\衰退周期.JPG', width=800, height=200)"
   ]
  },
  {
   "cell_type": "code",
   "execution_count": null,
   "metadata": {},
   "outputs": [],
   "source": [
    "def calculate_half_cov_matrix(train_set):\n",
    "#计算半衰协方差矩阵\n",
    "    train_subset = train_set.iloc[0:60]\n",
    "    cov_matrix = calculate_cov_matrix(train_subset)*(1/10)\n",
    "    for i in range(1,4):\n",
    "        train_subset = train_set.iloc[i*60:(i+1)*60]\n",
    "        sub_cov_matrix = calculate_cov_matrix(train_subset)\n",
    "        if i==1:\n",
    "            sub_cov_matrix = sub_cov_matrix*(2/10)\n",
    "        if i==2:\n",
    "            sub_cov_matrix = sub_cov_matrix*(3/10)\n",
    "        else:\n",
    "            sub_cov_matrix = sub_cov_matrix*(4/10)\n",
    "        cov_matrix = cov_matrix+sub_cov_matrix\n",
    "    return cov_matrix"
   ]
  },
  {
   "cell_type": "code",
   "execution_count": null,
   "metadata": {},
   "outputs": [],
   "source": [
    "df_weight_hpcrp = get_weight_matrix(df,method='pca',half=True)\n",
    "#plt.style.context('Solarize_Light2')\n",
    "#for i in range(df_weight_hpcrp.shape[0]):\n",
    "#    df_weight_hpcrp.iloc[i] = df_weight_hpcrp.iloc[i]/df_weight_hpcrp.iloc[i].sum()\n",
    "labels = df_weight_hpcrp.columns.to_list()\n",
    "fig, ax = plt.subplots(figsize=(10,5))\n",
    "#variable_name = list(dict(df=df).keys())[0]\n",
    "#variable_name = variable_name.split(\"_\")[-1]\n",
    "plt.title(\"HPCRP模型权重分布图\")\n",
    "plt.yticks(np.arange(0, 1, step=0.2))\n",
    "ax.stackplot(df_weight_hpcrp.index, df_weight_hpcrp.T,baseline='zero',labels=labels)\n",
    "ax.legend(loc='upper left')\n",
    "plt.show()"
   ]
  },
  {
   "cell_type": "markdown",
   "metadata": {},
   "source": [
    "### 2.5 引入预期走势估计：趋势跟踪法\n",
    "\n",
    "以某一时间长度的价格移动平均值的哦变化趋势来判断市场趋势。当资产价格上穿周期移动平均线时，可以判断为买入信号；当资产价格下穿周期移动平均线时，\n",
    "\n",
    "可以判断为卖出信号。\n",
    "\n",
    "考虑调整周期，假设第t个月末资产价格为p，n个月自动平均价格为MA(n)，则趋势跟踪策略的买卖点可以设置为：\n",
    "\n",
    "买点：当资产月末价格不低于n月移动平均线，即$p_t \\ge MA(n)_t$；\n",
    "\n",
    "卖点：当资产月末价格低于n月移动平均线，即$p_t<MA(n)_t$。\n"
   ]
  },
  {
   "cell_type": "markdown",
   "metadata": {},
   "source": [
    "### 引入预期走势估计改进的主成分风险平价模型  TF-PCRP"
   ]
  },
  {
   "cell_type": "code",
   "execution_count": null,
   "metadata": {},
   "outputs": [],
   "source": [
    "Image(filename = r'C:\\Users\\corem\\Documents\\风险平价参考\\风险平价参考\\改进的主成分风险平价.JPG', width=600, height=200)"
   ]
  },
  {
   "cell_type": "code",
   "execution_count": null,
   "metadata": {},
   "outputs": [],
   "source": [
    "Image(filename = r'C:\\Users\\corem\\Documents\\风险平价参考\\风险平价参考\\预期走势估计的主成分风险平价.JPG', width=600, height=200)"
   ]
  },
  {
   "cell_type": "code",
   "execution_count": null,
   "metadata": {},
   "outputs": [],
   "source": [
    "#创建无风险资产序列，设定无风险资产的日收益率是1.25%%\n",
    "non_risk_array = pd.Series(index=df.index)\n",
    "rate = 1\n",
    "i = 1\n",
    "while i < len(non_risk_array):\n",
    "    rate = rate*1.000125\n",
    "    non_risk_array[i] = rate\n",
    "    i = i +1 \n",
    "\n",
    "df_ma = df.rolling(60).mean()   #60天移动平均线\n",
    "df_ma = df_ma.groupby(df.index.to_period(\"M\")).last()  #月末60天移动平均线\n",
    "df_m = df.groupby(df.index.to_period(\"M\")).last()     #月末交易日指数\n",
    "\n",
    "#如果df_ma>df_m，则表明改资产应卖出\n",
    "#如果df_ma>df_m,则为0，否则为1，此时df_ma变为趋势调整矩阵，这样与权重矩阵相乘，相应的权重就会变为0，\n",
    "for i in df_ma.index.to_list():\n",
    "    for j in df_ma.columns.to_list():\n",
    "        if df_ma.loc[i,j] >= df_m.loc[i,j]:\n",
    "            df_ma.loc[i,j] = 0\n",
    "        else:\n",
    "            df_ma.loc[i,j] = 1     "
   ]
  },
  {
   "cell_type": "code",
   "execution_count": null,
   "metadata": {},
   "outputs": [],
   "source": [
    "df_weight_pcrp = get_weight_matrix(df,method='pca')   # 获取权重矩阵，日期间隔为季度\n",
    "df_weight_pcrp.index = df_weight_pcrp.index.to_period(\"M\")    #改变权重矩阵的日期格式为月\n",
    "monthly_weight = df.groupby(df.index.to_period(\"M\")).last()   #创建日期间隔为月度的权重矩阵\n",
    "#将df_weight_pcrp的权重插入到monthly_weight\n",
    "for date in monthly_weight.index:                              \n",
    "    if date in df_weight_pcrp.index:\n",
    "        monthly_weight.loc[date] = df_weight_pcrp.loc[date]\n",
    "    else:\n",
    "        monthly_weight.loc[date] = np.nan\n",
    "#补齐缺失值\n",
    "monthly_weight.fillna(method='bfill',inplace=True)"
   ]
  },
  {
   "cell_type": "code",
   "execution_count": null,
   "metadata": {},
   "outputs": [],
   "source": [
    "monthly_weight = monthly_weight['2008-12-31':]\n",
    "df_ma = df_ma['2008-12-31':]\n",
    "non_risk_weight = 1-(monthly_weight*df_ma).sum(axis=1)   # 无风险资产权重\n",
    "monthly_weight = monthly_weight*df_ma\n",
    "monthly_weight['non_risk'] = non_risk_weight            #添加了无风险资产权重的权重矩阵\n",
    "monthly_weight.index = monthly_weight.index.to_timestamp(how='end',freq='D')"
   ]
  },
  {
   "cell_type": "code",
   "execution_count": null,
   "metadata": {},
   "outputs": [],
   "source": [
    "df_plusnon = df.copy()\n",
    "df_plusnon['non_risk'] = non_risk_array    # 添加了无风险资产的指数"
   ]
  },
  {
   "cell_type": "code",
   "execution_count": null,
   "metadata": {},
   "outputs": [],
   "source": [
    "labels = monthly_weight.columns.to_list()\n",
    "fig, ax = plt.subplots(figsize=(10,5))\n",
    "plt.title(\"TF-PCRP模型权重分布图\")\n",
    "plt.yticks(np.arange(0, 1, step=0.2))\n",
    "ax.stackplot(monthly_weight.index, monthly_weight.T,baseline='zero',labels=labels)\n",
    "ax.legend(loc='upper left')\n",
    "plt.show()"
   ]
  },
  {
   "cell_type": "markdown",
   "metadata": {},
   "source": [
    "### 2.6 引入惩罚项 ： Lasso风险平价 "
   ]
  },
  {
   "cell_type": "markdown",
   "metadata": {},
   "source": [
    "类似于线性回归，对于我们要优化的目标函数引入一个L1正则项，这样可以使得权重不会太大"
   ]
  },
  {
   "cell_type": "code",
   "execution_count": null,
   "metadata": {},
   "outputs": [],
   "source": [
    "# 定义优化问题的目标函数，即最小化资产之间的风险贡献差\n",
    "def lasso_risk_parity(weight,parameters):\n",
    "    # weight: 待求解的资产权重,\n",
    "    # parameters: 参数列表 \n",
    "    # parameters[0]: 协方差矩阵\n",
    "    # parameters[1]: 风险平价下的目标风险贡献度向量\n",
    "\n",
    "    one_cov_matrix=parameters[0]\n",
    "    RC_target_ratio=parameters[1] \n",
    "    # RC_target为风险平价下的目标风险贡献，一旦参数传递以后，RC_target就是一个常数，不随迭代而改变\n",
    "    sigma_portfolio=np.sqrt(weight*one_cov_matrix*np.matrix(weight).T) # 组合波动率\n",
    "    RC_target=np.asmatrix(np.multiply(sigma_portfolio,RC_target_ratio))    # 目标风险贡献\n",
    "    # RC_real是 每次迭代以后最新的真实风险贡献，随迭代而改变\n",
    "    RC_real=calculate_risk_contribution(weight,one_cov_matrix)\n",
    "    sum_squared_error= sum(np.square(RC_real-RC_target.T)+np.fabs(weight)*5)[0,0] \n",
    "    return sum_squared_error "
   ]
  },
  {
   "cell_type": "code",
   "execution_count": null,
   "metadata": {},
   "outputs": [],
   "source": [
    "df_weight_lasso_rp = get_weight_matrix(df,method='lasso',half=False)"
   ]
  },
  {
   "cell_type": "code",
   "execution_count": null,
   "metadata": {},
   "outputs": [],
   "source": [
    "labels = df_weight_lasso_rp.columns.to_list()\n",
    "fig, ax = plt.subplots(figsize=(10,5))\n",
    "plt.title(\"Lasso-RP模型权重分布图\")\n",
    "plt.yticks(np.arange(0, 1, step=0.2))\n",
    "ax.stackplot(df_weight_lasso_rp.index, df_weight_lasso_rp.T,baseline='zero',labels=labels)\n",
    "ax.legend(loc='upper left')\n",
    "plt.show()"
   ]
  },
  {
   "cell_type": "markdown",
   "metadata": {},
   "source": [
    "## 3 回测\n",
    "\n"
   ]
  },
  {
   "cell_type": "code",
   "execution_count": null,
   "metadata": {},
   "outputs": [],
   "source": [
    "def get_backtest_set(change_time,next_change_time,df):\n",
    "    \"\"\"返回回测样本数据\"\"\"\n",
    "    #change_time: 调仓时间\n",
    "    #next_change_time: 下一次调仓时间\n",
    "    df = df.loc[(change_time<=df.index)&(df.index<next_change_time)]\n",
    "    return df "
   ]
  },
  {
   "cell_type": "code",
   "execution_count": null,
   "metadata": {},
   "outputs": [],
   "source": [
    "def get_backtest(df_weight,df):\n",
    "    change_time_list = df_weight.index.to_list()\n",
    "    df_b = df.loc['2008-12-31':]\n",
    "    #df_b = df.loc[(df.index>=change_time_list[0])]   #截取回测区间内的指数,即2018-12-31日开始\n",
    "    df_b = df_b/df_b.iloc[0]*100     # 统一缩放到100为基点\n",
    "    backtest = pd.DataFrame(columns=df.columns)  #创建一个空dataframe,用于插入回测数据    \n",
    "    for i in range(len(change_time_list)-1):\n",
    "        change_time = change_time_list[i]            #调仓日期\n",
    "        next_change_time = change_time_list[i+1]     #下一个调仓日期\n",
    "        #根据调仓时间乘以相应权重\n",
    "        backtest_set = get_backtest_set(change_time,next_change_time,df_b)\n",
    "        backtest_set = backtest_set/backtest_set.iloc[0]*100  # 统一缩放到100为基点\n",
    "        if i == 0 :\n",
    "            weight = df_weight.loc[change_time]\n",
    "        else:\n",
    "            weight = df_weight.loc[change_time]*backtest.iloc[-1].sum()/100\n",
    "        backtest_set = backtest_set.multiply(weight)\n",
    "        backtest = backtest.append(backtest_set)\n",
    "    return backtest  "
   ]
  },
  {
   "cell_type": "code",
   "execution_count": null,
   "metadata": {},
   "outputs": [],
   "source": [
    "def make_backtest_result(method_list):\n",
    "    # Key: 资产组合方法的名字\n",
    "    # Value is a list\n",
    "    # value[0]: 具体的结果\n",
    "    # value[1]: 合并后的结果\n",
    "    # value[2]: 评价指标\n",
    "    backtest_result={}\n",
    "    for method in method_list:\n",
    "        backtest_result[method]=[None,None,None]\n",
    "    return backtest_result"
   ]
  },
  {
   "cell_type": "code",
   "execution_count": null,
   "metadata": {},
   "outputs": [],
   "source": [
    "def backtest_EW(df):\n",
    "    \"\"\"EW的回测结果\"\"\"\n",
    "    ew_weight = ew_weight_matrix(df)\n",
    "    backtest = get_backtest(ew_weight,df)\n",
    "    backtest_res['EW'] = backtest.sum(axis=1)\n",
    "    return backtest\n",
    "\n",
    "def backtest_RP(df):\n",
    "    \"\"\"RP的回测结果\"\"\"\n",
    "    df_weight = get_weight_matrix(df,method=None)\n",
    "    backtest = get_backtest(df_weight,df)  \n",
    "    backtest_res['RP'] = backtest.sum(axis=1)\n",
    "    return backtest\n",
    "\n",
    "def backtest_PCRP(df):\n",
    "    \"\"\"PCRP的回测结果\"\"\"\n",
    "    df_weight = get_weight_matrix(df,method='pca')\n",
    "    backtest = get_backtest(df_weight,df)\n",
    "    backtest_res['PCRP'] = backtest.sum(axis=1)\n",
    "    return backtest\n",
    "\n",
    "def backtest_HRP(df):\n",
    "    \"\"\"HRP回测结果\"\"\"\n",
    "    df_weight = get_weight_matrix(df,method=None,half=True)\n",
    "    backtest = get_backtest(df_weight,df)\n",
    "    backtest_res['HRP'] = backtest.sum(axis=1)\n",
    "    return backtest\n",
    "\n",
    "def backtest_HPCRP(df):\n",
    "    \"\"\"HPCRP回测结果\"\"\"\n",
    "    df_weight = get_weight_matrix(df,method='pca',half=True)\n",
    "    backtest = get_backtest(df_weight,df)\n",
    "    backtest_res['HPCRP'] = backtest.sum(axis=1)\n",
    "    return backtest\n",
    "\n",
    "def backtest_TF_PCRP(monthly_weight,df_plusnon):\n",
    "    \"\"\"TF-PCRP回测结果\"\"\"\n",
    "    backtest = get_backtest(monthly_weight,df_plusnon)\n",
    "    backtest_res['TF-PCRP'] = backtest.sum(axis=1)\n",
    "    return backtest \n",
    "\n",
    "def backtest_Lasso_RP(df):\n",
    "    \"\"\"Lasso-RP回测结果\"\"\"\n",
    "    df_weight = get_weight_matrix(df,method='lasso',half=False)\n",
    "    backtest = get_backtest(df_weight,df)\n",
    "    backtest_res['Lasso-RP'] = backtest.sum(axis=1)\n",
    "    return backtest    "
   ]
  },
  {
   "cell_type": "code",
   "execution_count": null,
   "metadata": {},
   "outputs": [],
   "source": [
    "#method_list=['RP','PCRP','HRP','HPCRP']\n",
    "method_dict={ 'RP':backtest_RP,'PCRP':backtest_PCRP,'HRP':backtest_HRP,'HPCRP':backtest_HPCRP,'Lasso-RP':backtest_Lasso_RP}\n",
    "backtest_res = pd.DataFrame(columns=method_dict.keys())"
   ]
  },
  {
   "cell_type": "code",
   "execution_count": null,
   "metadata": {},
   "outputs": [],
   "source": [
    "c=backtest_TF_PCRP(monthly_weight,df_plusnon)"
   ]
  },
  {
   "cell_type": "code",
   "execution_count": null,
   "metadata": {},
   "outputs": [],
   "source": [
    "for name in method_dict:\n",
    "    method_dict.get(name)(df)"
   ]
  },
  {
   "cell_type": "code",
   "execution_count": null,
   "metadata": {},
   "outputs": [],
   "source": [
    "sns.set(style=\"whitegrid\")\n",
    "plt.figure(figsize = (15,6))\n",
    "sns.lineplot(data=backtest_res,  linewidth=2.5)\n",
    "plt.rcParams['font.sans-serif']=['SimHei']\n",
    "plt.rcParams['axes.unicode_minus'] = False\n",
    "plt.legend(loc='upper left')\n",
    "plt.title('各模型净值变化')\n",
    "plt.show()"
   ]
  },
  {
   "cell_type": "markdown",
   "metadata": {},
   "source": [
    "## 4 评价指标"
   ]
  },
  {
   "cell_type": "markdown",
   "metadata": {},
   "source": [
    "#### 计算年化收益率\n",
    "\n",
    "年化收益率有两种计算方式：\n",
    "\n",
    "* 算数平均算法：$年化收益率=\\frac{R_{T}}{T}*m$\n",
    "* 几何平均算法：$年化收益率=[(1+R_{T})^\\frac{m}{T}]-1$\n",
    "\n",
    "#### 年华波动率\n",
    "标准差$\\sigma = \\sqrt{\\frac{1}{T}\\sum_{t=1}^{T}{(R_{t}-\\bar{R})}^2}$"
   ]
  },
  {
   "cell_type": "code",
   "execution_count": null,
   "metadata": {},
   "outputs": [],
   "source": [
    "# 计算最大回撤\n",
    "def max_draw_down(ret): \n",
    "    ret = np.array(ret)\n",
    "    index_j = np.argmax(np.maximum.accumulate(ret) - ret)  # 结束位置\n",
    "    index_i = np.argmax(ret[:index_j])  # 开始位置\n",
    "    dd = ret[index_i] - ret[index_j]  # 最大回撤\n",
    "    dd = dd/ret[index_i]\n",
    "    return dd,index_i,index_j"
   ]
  },
  {
   "cell_type": "code",
   "execution_count": null,
   "metadata": {},
   "outputs": [],
   "source": [
    "def get_eval_indicator(ret):\n",
    "    \"\"\"各种评价指标\"\"\"\n",
    "    eval_indicator = pd.Series(index=['累计收益率','年化收益率','年化波动率','最大回撤','sharpe比率','Calmar比率'])\n",
    "    return_df = get_return_df(ret)\n",
    "    #累计收益率\n",
    "    eval_indicator['累计收益率'] = ret.iloc[-1]/ret.iloc[0] - 1\n",
    "    #年华收益率  \n",
    "    annual_ret = (ret.iloc[-1]/ret.iloc[0])**(240/ret.shape[0])-1\n",
    "    eval_indicator['年化收益率'] = annual_ret\n",
    "    #annual_ret = np.power(1+return_df.mean(), 250)-1 # 几何年化收益\n",
    "    #年华波动率\n",
    "    sigma = return_df.std() * (240**0.5)\n",
    "    eval_indicator['年化波动率'] = sigma\n",
    "    # 最大回撤\n",
    "    dd, dd_index_start, dd_index_end = max_draw_down(ret)\n",
    "    eval_indicator['最大回撤'] = dd\n",
    "    #夏普比率  无风险利率是3%\n",
    "    bench_annual_ret = 0.03\n",
    "    sharpe = (annual_ret-bench_annual_ret)/sigma\n",
    "    eval_indicator['sharpe比率'] = sharpe\n",
    "    #Calmar比率=年化收益率/最大历史回撤\n",
    "    calmar = annual_ret/dd\n",
    "    eval_indicator['Calmar比率'] = calmar\n",
    "    return eval_indicator"
   ]
  },
  {
   "cell_type": "code",
   "execution_count": null,
   "metadata": {},
   "outputs": [],
   "source": [
    "def get_eval_portfolio(backtest_res):\n",
    "    \"\"\"返回各个模型回测的评价结果\"\"\"\n",
    "    eval_portfolio = pd.DataFrame(columns=backtest_res.columns)\n",
    "    for name in eval_portfolio.columns:\n",
    "        ret = backtest_res[name]\n",
    "        eval_portfolio[name] = get_eval_indicator(ret)\n",
    "    return eval_portfolio"
   ]
  },
  {
   "cell_type": "markdown",
   "metadata": {},
   "source": [
    "### 各指数收益风险统计"
   ]
  },
  {
   "cell_type": "code",
   "execution_count": null,
   "metadata": {},
   "outputs": [],
   "source": [
    "np.around(get_eval_portfolio(data)*100,2)"
   ]
  },
  {
   "cell_type": "markdown",
   "metadata": {},
   "source": [
    "### 各模型收益风险统计"
   ]
  },
  {
   "cell_type": "code",
   "execution_count": null,
   "metadata": {},
   "outputs": [],
   "source": [
    "np.around(get_eval_portfolio(backtest_res)*100,2)"
   ]
  },
  {
   "cell_type": "markdown",
   "metadata": {},
   "source": [
    "## 5 结论\n",
    "\n",
    "1.从收益率看，引入预期风险估计的半衰风险平价能较好的提升收益率，HRP的收益率高于RP，HPCRP的收益率高于PCRP；\n",
    "\n",
    "2.从最大回撤和年化波动率看，主成分风险平价能较好的提升净值曲线的稳定性，PCRP和HPCRP的最大回撤和年化波动率均小于RP和HRP；\n",
    "\n",
    "3.从sharpe比率和calmar比率来看，TF-PCRP最高，它的的最大回测和年化波动率也最小，这似乎说明它是最稳定的，但它的收益也是最低的。\n"
   ]
  },
  {
   "cell_type": "code",
   "execution_count": null,
   "metadata": {},
   "outputs": [],
   "source": []
  }
 ],
 "metadata": {
  "anaconda-cloud": {},
  "kernelspec": {
   "display_name": "Python 3 (ipykernel)",
   "language": "python",
   "name": "python3"
  },
  "language_info": {
   "codemirror_mode": {
    "name": "ipython",
    "version": 3
   },
   "file_extension": ".py",
   "mimetype": "text/x-python",
   "name": "python",
   "nbconvert_exporter": "python",
   "pygments_lexer": "ipython3",
   "version": "3.9.7"
  },
  "toc": {
   "base_numbering": 1,
   "nav_menu": {},
   "number_sections": true,
   "sideBar": true,
   "skip_h1_title": false,
   "title_cell": "Table of Contents",
   "title_sidebar": "Contents",
   "toc_cell": false,
   "toc_position": {},
   "toc_section_display": true,
   "toc_window_display": false
  }
 },
 "nbformat": 4,
 "nbformat_minor": 2
}
