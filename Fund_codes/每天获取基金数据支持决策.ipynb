{
 "cells": [
  {
   "cell_type": "code",
   "execution_count": 1,
   "metadata": {},
   "outputs": [],
   "source": [
    "import os\n",
    "import re\n",
    "import json\n",
    "import time\n",
    "import warnings\n",
    "import requests\n",
    "import datetime\n",
    "import numpy as np\n",
    "import pandas as pd\n",
    "from openpyxl import load_workbook\n",
    "\n",
    "\n",
    "warnings.filterwarnings('ignore')"
   ]
  },
  {
   "cell_type": "code",
   "execution_count": 2,
   "metadata": {},
   "outputs": [],
   "source": [
    "# 浏览器头\n",
    "headers = {'content-type': 'application/json; charset=utf-8',\n",
    "           'User-Agent': 'Mozilla/5.0 (Macintosh; Intel Mac OS X 10_15_7) AppleWebKit/537.36 (KHTML, like Gecko) Chrome/101.0.0.0 Safari/537.36'}"
   ]
  },
  {
   "cell_type": "code",
   "execution_count": 3,
   "metadata": {},
   "outputs": [],
   "source": [
    "# 获取预估数据 或 历史数据\n",
    "def get_data(url, is_estimate):\n",
    "    r = requests.get(url, headers=headers)\n",
    "    # 返回信息\n",
    "    content = r.text\n",
    "    \n",
    "    if is_estimate:            \n",
    "        # 正则表达式\n",
    "        pattern = r'^jsonpgz\\((.*)\\)'\n",
    "        # 查找结果\n",
    "        search = re.findall(pattern, content)\n",
    "        data = json.loads(search[0])\n",
    "    else:\n",
    "        # 正则表达式\n",
    "        pattern = r'Data_netWorthTrend = \\[(.*?)\\]'\n",
    "        # 查找结果\n",
    "        search = re.findall(pattern, content)\n",
    "        # search的形状是['{},{},{},{}']，但是loads能处理的形状是：1、json中只有一个字典的情况：'{}' 或者 2、json中只有多个字典的情况'[{},{},{},{}]'\n",
    "        search = '[' + search[0] + ']'\n",
    "        data = json.loads(search)\n",
    "        data = data[::-1]   # 列表反转\n",
    "    \n",
    "    return  data"
   ]
  },
  {
   "cell_type": "code",
   "execution_count": 4,
   "metadata": {},
   "outputs": [],
   "source": [
    "# 时间转换函数\n",
    "def timeTransformation(datetime):\n",
    "    datelocal = time.localtime(datetime)\n",
    "    datetime_ = time.strftime(\"%Y-%m-%d %H:%M:%S\", datelocal)\n",
    "    date = datetime_[:10]\n",
    "    \n",
    "    return date"
   ]
  },
  {
   "cell_type": "code",
   "execution_count": 5,
   "metadata": {},
   "outputs": [],
   "source": [
    "# 写入历史数据\n",
    "def write_history_data(history_data, sheet):\n",
    "    # 历史数据写入：如果历史数据条数小于30，重新写入数据；否则将昨天的预估数据更新为实际历史数据\n",
    "    if len(sheet['A'])<30:\n",
    "        # 表头写入\n",
    "        sheet['A1'] = '基金代码：' + estimate_data['fundcode']\n",
    "        sheet['A2'] = '交易日期'\n",
    "        sheet['B2'] = '单位净值'\n",
    "        sheet['C2'] = '净值涨跌'\n",
    "        sheet['D2'] = '自上次买入累计涨跌'\n",
    "        sheet['E2'] = '是否买入'\n",
    "        sheet['F2'] = '买入金额'\n",
    "        \n",
    "        for r in range(0,30):\n",
    "            # 日期\n",
    "            date = timeTransformation(int(history_data[r]['x']/1000))\n",
    "            sheet.cell(row=r+4, column=1).value = date\n",
    "            # 净值\n",
    "            sheet.cell(row=r+4, column=2).value = history_data[r]['y']\n",
    "            # 涨幅\n",
    "            sheet.cell(row=r+4, column=3).value = history_data[r]['equityReturn']\n",
    "    else:\n",
    "        if timeTransformation(int(history_data[0]['x']/1000)) not in all_date:\n",
    "            # 净值\n",
    "            sheet.cell(row=3, column=2).value = history_data[0]['y']\n",
    "            # 涨幅\n",
    "            sheet.cell(row=3, column=3).value = history_data[0]['equityReturn']"
   ]
  },
  {
   "cell_type": "code",
   "execution_count": 6,
   "metadata": {},
   "outputs": [],
   "source": [
    "# 写入预估数据\n",
    "def write_estimat_data(estimate_data, sheet):\n",
    "    # 如果不用重新写入，则需要将最新的历史数据和预估数据插入到表中\n",
    "    if estimate_data['gztime'][:10] not in all_date:\n",
    "        print('没有数据')\n",
    "        sheet.insert_rows(idx=3, amount=1)\n",
    "        # 预估数据插入\n",
    "        sheet.cell(row=3, column=1).value = estimate_data['gztime'][:10]\n",
    "        sheet.cell(row=3, column=2).value = float(estimate_data['gsz'])\n",
    "        sheet.cell(row=3, column=3).value = float(estimate_data['gszzl'])\n",
    "    "
   ]
  },
  {
   "cell_type": "code",
   "execution_count": 7,
   "metadata": {},
   "outputs": [],
   "source": [
    "# 计算累计涨跌幅\n",
    "def whetherNotToBuy(sheet):\n",
    "    # 获取E列数据\n",
    "    is_E = [i.value for i in sheet['E']][2:]\n",
    "    # 获取D列数据为1（买入点）的索引\n",
    "    is_E_index = [i for i,v in enumerate(is_E) if v==1]\n",
    "    row = is_E_index[0] + 2\n",
    "    \n",
    "    # 累计涨跌幅度\n",
    "    for i in range(is_E_index[0]):\n",
    "        sheet[f'D{row-i}'] = f'=SUM(C{row-i}:C{row})'"
   ]
  },
  {
   "cell_type": "code",
   "execution_count": 8,
   "metadata": {},
   "outputs": [],
   "source": [
    "codes = ['161725', '005827', '003095']\n",
    "# codes = ['005827']\n",
    "\n",
    "# 获取表格对象\n",
    "workbook = load_workbook('/Users/ayd/Desktop/基金数据买卖点.xlsx')\n",
    "sheetnames = workbook.sheetnames\n",
    "\n",
    "for code in codes:\n",
    "    # 生成链接\n",
    "    url_estimate = \"http://fundgz.1234567.com.cn/js/%s.js\"%code\n",
    "    url_history = \"http://fund.eastmoney.com/pingzhongdata/%s.js\"%code\n",
    "    \n",
    "    # 获取数据\n",
    "    estimate_data = get_data(url_estimate, True)\n",
    "    history_data = get_data(url_history, False)\n",
    "    \n",
    "    ##### 数据入表 #####\n",
    "    # 创建sheet\n",
    "    if estimate_data['name'] not in sheetnames:\n",
    "        workbook.create_sheet(estimate_data['name'])\n",
    "    sheet = workbook[estimate_data['name']]\n",
    "    \n",
    "    # 表中已有的数据的所有日期\n",
    "    all_date = [sheet['A'][a].value for a in range(len(sheet['A']))][2:]\n",
    "    \n",
    "    # 写入历史数据\n",
    "    write_history_data(history_data, sheet)\n",
    "    # 写入预估数据\n",
    "    write_estimat_data(estimate_data, sheet)\n",
    "    # 计算距离上次买入的累计涨跌\n",
    "    whetherNotToBuy(sheet)\n",
    "\n",
    "\n",
    "workbook.save('/Users/ayd/Desktop/基金数据买卖点.xlsx')"
   ]
  }
 ],
 "metadata": {
  "kernelspec": {
   "display_name": "Python 3.8.13 ('spider')",
   "language": "python",
   "name": "python3"
  },
  "language_info": {
   "codemirror_mode": {
    "name": "ipython",
    "version": 3
   },
   "file_extension": ".py",
   "mimetype": "text/x-python",
   "name": "python",
   "nbconvert_exporter": "python",
   "pygments_lexer": "ipython3",
   "version": "3.8.13 (default, Mar 28 2022, 06:13:39) \n[Clang 12.0.0 ]"
  },
  "orig_nbformat": 4,
  "vscode": {
   "interpreter": {
    "hash": "379ad968b5dffaecce53ab6b57bffba74a960b93e6bcec8c41356809e6f4bf5d"
   }
  }
 },
 "nbformat": 4,
 "nbformat_minor": 2
}
